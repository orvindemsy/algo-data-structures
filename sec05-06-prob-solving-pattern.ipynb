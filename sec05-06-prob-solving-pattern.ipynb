{
 "cells": [
  {
   "cell_type": "markdown",
   "metadata": {},
   "source": [
    "https://www.udemy.com/course/js-algorithms-and-data-structures-masterclass/learn/lecture/9816152#notes"
   ]
  },
  {
   "cell_type": "markdown",
   "metadata": {},
   "source": [
    "# Section 5 Problem Solving Patterns"
   ]
  },
  {
   "cell_type": "markdown",
   "metadata": {},
   "source": [
    "## Introduction"
   ]
  },
  {
   "cell_type": "markdown",
   "metadata": {},
   "source": [
    "Several solving problem patterns/approach/blueprints, some name are official, some are not:\n",
    "- Frequency Counter\n",
    "- Multiple Pointers\n",
    "- Sliding Window\n",
    "- Divide and Conquer\n",
    "- Dynamic Programming\n",
    "- Greedy Algorithm\n",
    "- Backtracking\n",
    "- etc."
   ]
  },
  {
   "cell_type": "code",
   "execution_count": 154,
   "metadata": {},
   "outputs": [],
   "source": [
    "# To measure time elapse if needed\n",
    "from time import time"
   ]
  },
  {
   "cell_type": "markdown",
   "metadata": {},
   "source": [
    "## Frequency Counter\n",
    "Patterns that used to collect values/frequencies of values  \n",
    "\n",
    "Example:  \n",
    "Function that takes two arrays, return true if every value in the array has it's corresponding value squared in the second array, otherwise false order doesn't matter\n",
    "\n",
    "same([1, 2, 3], [9, 4, 1]) -> True  \n",
    "same([1, 2, 3], [9, 4]) -> False"
   ]
  },
  {
   "cell_type": "code",
   "execution_count": 1,
   "metadata": {},
   "outputs": [],
   "source": [
    "# Naive approach \n",
    "def same1(arr1, arr2):\n",
    "    if len(arr1) != len(arr2):\n",
    "        return False\n",
    "    \n",
    "    for i in arr1:\n",
    "        try:\n",
    "            idx = arr2.index(i**2)\n",
    "            arr2.pop(idx)\n",
    "        except:\n",
    "            return False\n",
    "    return True"
   ]
  },
  {
   "cell_type": "code",
   "execution_count": 2,
   "metadata": {},
   "outputs": [
    {
     "name": "stdout",
     "output_type": "stream",
     "text": [
      "Result of same1: False\n"
     ]
    }
   ],
   "source": [
    "arr1 = [1, 2, 3, 3]\n",
    "arr2 = [9, 4, 2, 2]\n",
    "print('Result of same1:', same1(arr1, arr2))"
   ]
  },
  {
   "cell_type": "code",
   "execution_count": 3,
   "metadata": {},
   "outputs": [],
   "source": [
    "# Refactored using frequency counter:\n",
    "def same2(arr1, arr2):\n",
    "    freqCount1 = {}\n",
    "    freqCount2 = {}\n",
    "    \n",
    "    # Counting appearance of all elements in array\n",
    "    for n in arr1:\n",
    "        freqCount1[n] = freqCount1.get(n, 0) + 1\n",
    "    \n",
    "    for n in arr2:\n",
    "        freqCount2[n] = freqCount2.get(n, 0) + 1\n",
    "\n",
    "    for n in freqCount1.keys():\n",
    "        if (n**2 not in freqCount2) or (freqCount1[n] != freqCount2[n**2]):\n",
    "            return False\n",
    "        \n",
    "    return True"
   ]
  },
  {
   "cell_type": "code",
   "execution_count": 4,
   "metadata": {},
   "outputs": [
    {
     "name": "stdout",
     "output_type": "stream",
     "text": [
      "Result of same2: True\n"
     ]
    }
   ],
   "source": [
    "arr1 = [1, 2, 3, 3]\n",
    "arr2 = [9, 4, 9, 1]\n",
    "print('Result of same2:', same2(arr1, arr2))"
   ]
  },
  {
   "cell_type": "code",
   "execution_count": null,
   "metadata": {},
   "outputs": [],
   "source": []
  },
  {
   "cell_type": "markdown",
   "metadata": {},
   "source": [
    "## Frequency Counter: `validAnagram`"
   ]
  },
  {
   "cell_type": "code",
   "execution_count": 5,
   "metadata": {},
   "outputs": [],
   "source": [
    "def validAnagram(arr1, arr2):\n",
    "    # If both lengths are not equal they are false\n",
    "    if len(arr1) != len(arr2):\n",
    "        return False\n",
    "    \n",
    "    # Define two object\n",
    "    FreqArr1 = {}\n",
    "    FreqArr2 = {}\n",
    "    \n",
    "    # Dict object of arr1\n",
    "    for i in arr1:\n",
    "        if i not in FreqArr1:\n",
    "            FreqArr1[i] = 1\n",
    "        else:\n",
    "            FreqArr1[i] += 1\n",
    "    \n",
    "    # Dict object of arr2\n",
    "    for i in arr2:\n",
    "        if i not in FreqArr2:\n",
    "            FreqArr2[i] = 1\n",
    "        else:\n",
    "            FreqArr2[i] += 1\n",
    "            \n",
    "    \n",
    "    # Compare both object's items key value pair should be equal\n",
    "    for key in FreqArr1.keys():\n",
    "        if (key not in FreqArr2) or (FreqArr1[key] != FreqArr2[key]):\n",
    "            return False\n",
    "    \n",
    "    return True"
   ]
  },
  {
   "cell_type": "code",
   "execution_count": 6,
   "metadata": {},
   "outputs": [],
   "source": [
    "# Sample input\n",
    "# text1 = 'azz'\n",
    "# text2 = 'zza'\n",
    "\n",
    "# text1 = 'iceman'\n",
    "# text2 = 'manice'\n",
    "\n",
    "text1 = 'racecar'\n",
    "text2 = 'carrace'"
   ]
  },
  {
   "cell_type": "code",
   "execution_count": 7,
   "metadata": {},
   "outputs": [
    {
     "data": {
      "text/plain": [
       "True"
      ]
     },
     "execution_count": 7,
     "metadata": {},
     "output_type": "execute_result"
    }
   ],
   "source": [
    "validAnagram(text1, text2)"
   ]
  },
  {
   "cell_type": "code",
   "execution_count": null,
   "metadata": {},
   "outputs": [],
   "source": []
  },
  {
   "cell_type": "markdown",
   "metadata": {},
   "source": [
    "## Multiple Pointers Pattern\n",
    "Problem solving pattern by creating pointers or values that corresponds to index or position and move towards the beginning, end, or middle based on certain condition. It has good space complexity. Multiple pointers pattern is not an official name.\n",
    "\n",
    "Example:\n",
    "Write function sumZero, that accepts sorted array of integers, then the function should find the first pair that give 0. Return the pair if exist, undefined if it doesn't  \n",
    "  \n",
    "sumZero([-2, -1, 0, 1, 4]) --> [-1, 1]  \n",
    "sumZero([-3, -1, 0, 2, 5]) --> False"
   ]
  },
  {
   "cell_type": "code",
   "execution_count": 8,
   "metadata": {},
   "outputs": [],
   "source": [
    "# My own solution\n",
    "def mySumZero(arr):\n",
    "    num1 = 0\n",
    "    \n",
    "    for n in arr:\n",
    "        num = n\n",
    "        if (-num in arr) and num != 0:\n",
    "            return (num, -num)\n",
    "        \n",
    "    return 'undefined'"
   ]
  },
  {
   "cell_type": "code",
   "execution_count": 9,
   "metadata": {},
   "outputs": [
    {
     "data": {
      "text/plain": [
       "'undefined'"
      ]
     },
     "execution_count": 9,
     "metadata": {},
     "output_type": "execute_result"
    }
   ],
   "source": [
    "arr = [-2, -1, 0, 3, 4]\n",
    "mySumZero(arr)"
   ]
  },
  {
   "cell_type": "code",
   "execution_count": 10,
   "metadata": {},
   "outputs": [],
   "source": [
    "# Naive solution in lectures\n",
    "def sumZero1(arr):\n",
    "    for i in range(len(arr)):\n",
    "        for j in range(i+1, len(arr)):\n",
    "            if (arr[i] + arr[j] == 0) and (arr[i] != 0) :\n",
    "                return (arr[i], arr[j])\n",
    "    return 'undefined'"
   ]
  },
  {
   "cell_type": "code",
   "execution_count": 11,
   "metadata": {},
   "outputs": [
    {
     "data": {
      "text/plain": [
       "(-2, 2)"
      ]
     },
     "execution_count": 11,
     "metadata": {},
     "output_type": "execute_result"
    }
   ],
   "source": [
    "arr = [-3, -2, -1, 0, 1, 2, 5]\n",
    "sumZero1(arr)"
   ]
  },
  {
   "cell_type": "code",
   "execution_count": 12,
   "metadata": {},
   "outputs": [],
   "source": [
    "# Refactored\n",
    "def sumZero2(arr):\n",
    "    left  = 0\n",
    "    right = len(arr)-1\n",
    "    \n",
    "    while left < right:\n",
    "        summ = arr[left] + arr[right]\n",
    "        if summ > 0:\n",
    "            right -= 1\n",
    "        elif summ < 0:\n",
    "            left += 1\n",
    "        else:\n",
    "            return (arr[left], arr[right])\n",
    "    return 'pair not found'"
   ]
  },
  {
   "cell_type": "code",
   "execution_count": 13,
   "metadata": {},
   "outputs": [
    {
     "data": {
      "text/plain": [
       "'pair not found'"
      ]
     },
     "execution_count": 13,
     "metadata": {},
     "output_type": "execute_result"
    }
   ],
   "source": [
    "arr = [-4, -3, -2, -1, 0, 5, 10]\n",
    "sumZero2(arr)"
   ]
  },
  {
   "cell_type": "code",
   "execution_count": null,
   "metadata": {},
   "outputs": [],
   "source": []
  },
  {
   "cell_type": "markdown",
   "metadata": {},
   "source": [
    "## Multiple Pointers: `countUniqueValues`\n",
    "Implements function that counts unique values of an *sorted* array.\n",
    "\n",
    "Example:  \n",
    "countUnique([1, 1, 1, 2]) --> 2  \n",
    "countUnique([-2, -1, 0, 1]) --> 4    \n",
    "countUnique([]) --> 0"
   ]
  },
  {
   "cell_type": "code",
   "execution_count": 14,
   "metadata": {},
   "outputs": [],
   "source": [
    "def countUnique(arr):\n",
    "    if len(arr) < 1:\n",
    "        return 0\n",
    "    \n",
    "    # Initialized two pointers to compare two values\n",
    "    i = 0\n",
    "    j = 1\n",
    "\n",
    "    # While the pointer is less than array length\n",
    "    while j < len(arr):\n",
    "        # Compare i and j\n",
    "        # If and if not same values are found\n",
    "        if arr[i] == arr[j]: \n",
    "            j += 1\n",
    "        else:\n",
    "            i += 1\n",
    "            arr[i] = arr[j]\n",
    "\n",
    "    # Returning where i is right now\n",
    "    return i + 1"
   ]
  },
  {
   "cell_type": "code",
   "execution_count": 15,
   "metadata": {},
   "outputs": [
    {
     "data": {
      "text/plain": [
       "7"
      ]
     },
     "execution_count": 15,
     "metadata": {},
     "output_type": "execute_result"
    }
   ],
   "source": [
    "arr1 = [1, 1, 1, 1, 1, 2]\n",
    "arr2 = [1, 2, 3, 4, 4, 4, 7, 7, 12, 12, 13]\n",
    "arr3 = []\n",
    "countUnique(arr2)"
   ]
  },
  {
   "cell_type": "code",
   "execution_count": null,
   "metadata": {},
   "outputs": [],
   "source": []
  },
  {
   "cell_type": "markdown",
   "metadata": {},
   "source": [
    "## Sliding Window Pattern\n",
    "This pattern will create window of array or number of indices.  \n",
    "Depending on given condition, this window can either increases or closes.  \n",
    "Useful in keeping track of property of subset of an array/string/etc.\n",
    "\n",
    "Example:  \n",
    "Implement a function called `maxSubarraySum` that accepts an array of integers (sorted/unsorted) and a number called n.  \n",
    "The function will calculate maximum sum of n consecutive elements in the array.\n",
    "\n",
    "\\*In this section I avoid the use of sum()"
   ]
  },
  {
   "cell_type": "code",
   "execution_count": 109,
   "metadata": {},
   "outputs": [],
   "source": [
    "# Naive solution\n",
    "def maxSubarraySum1(arr, n):\n",
    "    if len(arr) < n:\n",
    "        return 'invalid'\n",
    "    \n",
    "    maxsum = -float('Inf')\n",
    "    \n",
    "    for i in range(len(arr)):\n",
    "        tempsum = 0\n",
    "        \n",
    "        for j in range(n):\n",
    "            tempsum += arr[i+j]\n",
    "            \n",
    "            if tempsum > maxsum:\n",
    "                maxsum = tempsum\n",
    "        \n",
    "        # Check if possible sequence has reach maximum\n",
    "        if (i + n) == len(arr)-1:\n",
    "            break\n",
    "                \n",
    "    return maxsum"
   ]
  },
  {
   "cell_type": "code",
   "execution_count": 110,
   "metadata": {},
   "outputs": [
    {
     "data": {
      "text/plain": [
       "19"
      ]
     },
     "execution_count": 110,
     "metadata": {},
     "output_type": "execute_result"
    }
   ],
   "source": [
    "arr = [2, 6, 9, 2, 1, 8, 5, 6, 3]\n",
    "n = 3\n",
    "maxSubarraySum1(arr, n)"
   ]
  },
  {
   "cell_type": "code",
   "execution_count": 111,
   "metadata": {},
   "outputs": [],
   "source": [
    "# Refactored with sliding window\n",
    "def maxSubarraySum2(arr, n):\n",
    "    if len(arr) < n:\n",
    "        return 'invalid'\n",
    "    \n",
    "    maxsum = 0\n",
    "    tempsum = 0\n",
    "    \n",
    "    for i in range(n):\n",
    "        tempsum += arr[i]\n",
    "    \n",
    "    maxsum = tempsum\n",
    "    \n",
    "    for j in range(n, len(arr)):\n",
    "        tempsum = tempsum - arr[j-n] + arr[j]\n",
    "        \n",
    "        maxsum = max(maxsum, tempsum)\n",
    "              \n",
    "    return maxsum"
   ]
  },
  {
   "cell_type": "code",
   "execution_count": 112,
   "metadata": {},
   "outputs": [
    {
     "data": {
      "text/plain": [
       "19"
      ]
     },
     "execution_count": 112,
     "metadata": {},
     "output_type": "execute_result"
    }
   ],
   "source": [
    "arr = [2, 6, 9, 2, 1, 8, 5, 6, 3]\n",
    "n = 3\n",
    "maxSubarraySum2(arr, n)"
   ]
  },
  {
   "cell_type": "code",
   "execution_count": null,
   "metadata": {},
   "outputs": [],
   "source": []
  },
  {
   "cell_type": "markdown",
   "metadata": {},
   "source": [
    "## Divide and Conquer\n",
    "This pattern will split data into smaller chunks, then repeating the process in that smaller chunk.  \n",
    "This pattern can greatly decrease time complexity"
   ]
  },
  {
   "cell_type": "code",
   "execution_count": null,
   "metadata": {},
   "outputs": [],
   "source": []
  },
  {
   "cell_type": "code",
   "execution_count": null,
   "metadata": {},
   "outputs": [],
   "source": []
  }
 ],
 "metadata": {
  "kernelspec": {
   "display_name": "Python 3",
   "language": "python",
   "name": "python3"
  },
  "language_info": {
   "codemirror_mode": {
    "name": "ipython",
    "version": 3
   },
   "file_extension": ".py",
   "mimetype": "text/x-python",
   "name": "python",
   "nbconvert_exporter": "python",
   "pygments_lexer": "ipython3",
   "version": "3.7.9"
  }
 },
 "nbformat": 4,
 "nbformat_minor": 4
}
