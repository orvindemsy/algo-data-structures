{
 "cells": [
  {
   "cell_type": "markdown",
   "metadata": {},
   "source": [
    "# Section 20 Doubly Linked List"
   ]
  },
  {
   "cell_type": "code",
   "execution_count": 1,
   "metadata": {},
   "outputs": [],
   "source": [
    "class Node:\n",
    "    def __init__(self, val):\n",
    "        self.val  = val\n",
    "        self.next = None\n",
    "        self.prev = None"
   ]
  },
  {
   "cell_type": "code",
   "execution_count": 2,
   "metadata": {},
   "outputs": [
    {
     "name": "stdout",
     "output_type": "stream",
     "text": [
      "{'val': 10, 'next': None, 'prev': <__main__.Node object at 0x000002D3C4C99B08>}\n",
      "<__main__.Node object at 0x000002D3C4C99AC8>\n"
     ]
    }
   ],
   "source": [
    "node1 = Node(5)\n",
    "node2 = Node(10)\n",
    "node1.next      = node2\n",
    "node1.next.prev = node1\n",
    "\n",
    "print(vars(node1.next.prev.next))\n",
    "print(node2)"
   ]
  },
  {
   "cell_type": "code",
   "execution_count": 3,
   "metadata": {},
   "outputs": [],
   "source": [
    "class DoublyLinkedList:\n",
    "    def __init__(self, val):\n",
    "        self.head   = None\n",
    "        self.tail   = None\n",
    "        self.length = None"
   ]
  },
  {
   "cell_type": "markdown",
   "metadata": {},
   "source": [
    "## Push"
   ]
  },
  {
   "cell_type": "code",
   "execution_count": 4,
   "metadata": {},
   "outputs": [],
   "source": [
    "class DoublyLinkedList:\n",
    "    def __init__(self):\n",
    "        self.head   = None\n",
    "        self.tail   = None\n",
    "        self.length = 0\n",
    "        \n",
    "    def push(self, val):\n",
    "        node = Node(val)\n",
    "        \n",
    "        if self.length == 0:\n",
    "            self.head = node\n",
    "            self.tail = node\n",
    "        else:\n",
    "            self.tail.next = node\n",
    "            node.prev = self.tail\n",
    "            self.tail = node\n",
    "        \n",
    "        self.length += 1"
   ]
  },
  {
   "cell_type": "code",
   "execution_count": 5,
   "metadata": {},
   "outputs": [],
   "source": [
    "dll = DoublyLinkedList()\n",
    "dll.push('Ross')\n",
    "dll.push('Rach')\n",
    "dll.push('Joey')"
   ]
  },
  {
   "cell_type": "code",
   "execution_count": 6,
   "metadata": {},
   "outputs": [
    {
     "name": "stdout",
     "output_type": "stream",
     "text": [
      "{'head': <__main__.Node object at 0x000002D3C4C9BE08>, 'tail': <__main__.Node object at 0x000002D3C4C9BF08>, 'length': 3}\n",
      "{'val': 'Ross', 'next': <__main__.Node object at 0x000002D3C4C9BEC8>, 'prev': None}\n",
      "{'val': 'Rach', 'next': <__main__.Node object at 0x000002D3C4C9BF08>, 'prev': <__main__.Node object at 0x000002D3C4C9BE08>}\n",
      "{'val': 'Joey', 'next': None, 'prev': <__main__.Node object at 0x000002D3C4C9BEC8>}\n"
     ]
    }
   ],
   "source": [
    "print(vars(dll))\n",
    "print(vars(dll.head))\n",
    "print(vars(dll.head.next))\n",
    "print(vars(dll.tail))"
   ]
  },
  {
   "cell_type": "code",
   "execution_count": null,
   "metadata": {},
   "outputs": [],
   "source": []
  },
  {
   "cell_type": "markdown",
   "metadata": {},
   "source": [
    "## Pop"
   ]
  },
  {
   "cell_type": "code",
   "execution_count": 7,
   "metadata": {},
   "outputs": [],
   "source": [
    "class DoublyLinkedList:\n",
    "    def __init__(self):\n",
    "        self.head   = None\n",
    "        self.tail   = None\n",
    "        self.length = 0\n",
    "        \n",
    "    def push(self, val):\n",
    "        node = Node(val)\n",
    "        \n",
    "        if self.length == 0:\n",
    "            self.head = node\n",
    "            self.tail = node\n",
    "        else:\n",
    "            self.tail.next = node\n",
    "            node.prev = self.tail\n",
    "            self.tail = node\n",
    "        \n",
    "        self.length += 1\n",
    "        \n",
    "    def pop(self):\n",
    "        oldTail = self.tail\n",
    "\n",
    "        if self.length == 0:\n",
    "            return oldTail\n",
    "        elif self.length == 1:\n",
    "            self.head = None\n",
    "            self.tail = None\n",
    "        else:\n",
    "            newTail = oldTail.prev\n",
    "            \n",
    "            newTail.next   = None      # Cut connection of new tail next\n",
    "            oldTail.prev   = None      # Cut connection of current tail prev \n",
    "            self.tail      = newTail   # Define new tail\n",
    "            \n",
    "        self.length -= 1\n",
    "        \n",
    "        return oldTail"
   ]
  },
  {
   "cell_type": "code",
   "execution_count": 8,
   "metadata": {},
   "outputs": [],
   "source": [
    "dll = DoublyLinkedList()"
   ]
  },
  {
   "cell_type": "code",
   "execution_count": 9,
   "metadata": {},
   "outputs": [],
   "source": [
    "dll.push(\"Ross\")\n",
    "dll.push(\"Rach\")\n",
    "dll.push(\"Joey\")\n",
    "dll.push(\"Chan\")"
   ]
  },
  {
   "cell_type": "code",
   "execution_count": 10,
   "metadata": {},
   "outputs": [
    {
     "name": "stdout",
     "output_type": "stream",
     "text": [
      "{'head': <__main__.Node object at 0x000002D3C4C99508>, 'tail': <__main__.Node object at 0x000002D3C4C99488>, 'length': 4}\n",
      "{'val': 'Ross', 'next': <__main__.Node object at 0x000002D3C4C995C8>, 'prev': None}\n",
      "{'val': 'Chan', 'next': None, 'prev': <__main__.Node object at 0x000002D3C4C99648>}\n"
     ]
    }
   ],
   "source": [
    "print(vars(dll))\n",
    "print(vars(dll.head))\n",
    "print(vars(dll.tail))"
   ]
  },
  {
   "cell_type": "code",
   "execution_count": 11,
   "metadata": {},
   "outputs": [
    {
     "name": "stdout",
     "output_type": "stream",
     "text": [
      "{'val': 'Chan', 'next': None, 'prev': None}\n"
     ]
    }
   ],
   "source": [
    "popped = dll.pop()\n",
    "print(vars(popped))"
   ]
  },
  {
   "cell_type": "code",
   "execution_count": 12,
   "metadata": {},
   "outputs": [
    {
     "name": "stdout",
     "output_type": "stream",
     "text": [
      "{'head': <__main__.Node object at 0x000002D3C4C99508>, 'tail': <__main__.Node object at 0x000002D3C4C99648>, 'length': 3}\n",
      "{'val': 'Ross', 'next': <__main__.Node object at 0x000002D3C4C995C8>, 'prev': None}\n",
      "{'val': 'Joey', 'next': None, 'prev': <__main__.Node object at 0x000002D3C4C995C8>}\n"
     ]
    }
   ],
   "source": [
    "print(vars(dll))\n",
    "print(vars(dll.head))\n",
    "print(vars(dll.tail))"
   ]
  },
  {
   "cell_type": "code",
   "execution_count": null,
   "metadata": {},
   "outputs": [],
   "source": []
  },
  {
   "cell_type": "markdown",
   "metadata": {},
   "source": [
    "## Shift"
   ]
  },
  {
   "cell_type": "code",
   "execution_count": 13,
   "metadata": {},
   "outputs": [],
   "source": [
    "class DoublyLinkedList:\n",
    "    def __init__(self):\n",
    "        self.head   = None\n",
    "        self.tail   = None\n",
    "        self.length = 0\n",
    "    \n",
    "    # == PUSH ==\n",
    "    def push(self, val):\n",
    "        node = Node(val)\n",
    "        \n",
    "        if self.length == 0:\n",
    "            self.head = node\n",
    "            self.tail = node\n",
    "        else:\n",
    "            self.tail.next = node\n",
    "            node.prev = self.tail\n",
    "            self.tail = node\n",
    "        \n",
    "        self.length += 1\n",
    "    \n",
    "    # == POP ==\n",
    "    def pop(self):\n",
    "        oldTail = self.tail\n",
    "\n",
    "        if self.length == 0:\n",
    "            return oldTail\n",
    "        elif self.length == 1:\n",
    "            self.head = None\n",
    "            self.tail = None\n",
    "        else:\n",
    "            newTail = oldTail.prev\n",
    "            \n",
    "            newTail.next   = None      # Cut connection of new tail next\n",
    "            oldTail.prev   = None      # Cut connection of current tail prev \n",
    "            self.tail      = newTail   # Define new tail\n",
    "            \n",
    "        self.length -= 1\n",
    "        \n",
    "        return oldTail\n",
    "    \n",
    "    # == SHIFT == \n",
    "    def shift(self):\n",
    "        oldHead = self.head\n",
    "        \n",
    "        if self.length == 0:\n",
    "            return None\n",
    "        elif self.length == 1:\n",
    "            self.head = None\n",
    "            self.tail = None\n",
    "        else:\n",
    "            newHead = oldHead.next\n",
    "            \n",
    "            newHead.prev = None\n",
    "            oldHead.next = None\n",
    "            self.head    = newHead\n",
    "            \n",
    "        self.length -= 1\n",
    "        \n",
    "        return oldHead"
   ]
  },
  {
   "cell_type": "code",
   "execution_count": 14,
   "metadata": {},
   "outputs": [],
   "source": [
    "dll = DoublyLinkedList()"
   ]
  },
  {
   "cell_type": "code",
   "execution_count": 15,
   "metadata": {},
   "outputs": [],
   "source": [
    "dll.push(\"Ross\")\n",
    "dll.push(\"Rach\")\n",
    "dll.push(\"Joey\")\n",
    "dll.push(\"Chan\")"
   ]
  },
  {
   "cell_type": "code",
   "execution_count": 16,
   "metadata": {},
   "outputs": [
    {
     "name": "stdout",
     "output_type": "stream",
     "text": [
      "{'head': <__main__.Node object at 0x000002D3C4CAB448>, 'tail': <__main__.Node object at 0x000002D3C4CAB488>, 'length': 4}\n",
      "{'val': 'Ross', 'next': <__main__.Node object at 0x000002D3C4CAB808>, 'prev': None}\n",
      "{'val': 'Chan', 'next': None, 'prev': <__main__.Node object at 0x000002D3C4CAB588>}\n"
     ]
    }
   ],
   "source": [
    "print(vars(dll))\n",
    "print(vars(dll.head))\n",
    "print(vars(dll.tail))"
   ]
  },
  {
   "cell_type": "code",
   "execution_count": 17,
   "metadata": {},
   "outputs": [
    {
     "name": "stdout",
     "output_type": "stream",
     "text": [
      "{'val': 'Ross', 'next': None, 'prev': None}\n"
     ]
    }
   ],
   "source": [
    "shf = dll.shift()\n",
    "print(vars(shf))"
   ]
  },
  {
   "cell_type": "code",
   "execution_count": 18,
   "metadata": {},
   "outputs": [
    {
     "name": "stdout",
     "output_type": "stream",
     "text": [
      "{'head': <__main__.Node object at 0x000002D3C4CAB808>, 'tail': <__main__.Node object at 0x000002D3C4CAB488>, 'length': 3}\n",
      "{'val': 'Rach', 'next': <__main__.Node object at 0x000002D3C4CAB588>, 'prev': None}\n",
      "{'val': 'Chan', 'next': None, 'prev': <__main__.Node object at 0x000002D3C4CAB588>}\n"
     ]
    }
   ],
   "source": [
    "print(vars(dll))\n",
    "print(vars(dll.head))\n",
    "print(vars(dll.tail))"
   ]
  },
  {
   "cell_type": "code",
   "execution_count": null,
   "metadata": {},
   "outputs": [],
   "source": []
  },
  {
   "cell_type": "markdown",
   "metadata": {},
   "source": [
    "## Unshift"
   ]
  },
  {
   "cell_type": "code",
   "execution_count": 19,
   "metadata": {},
   "outputs": [],
   "source": [
    "class DoublyLinkedList:\n",
    "    def __init__(self):\n",
    "        self.head   = None\n",
    "        self.tail   = None\n",
    "        self.length = 0\n",
    "    \n",
    "    # == PUSH ==\n",
    "    def push(self, val):\n",
    "        node = Node(val)\n",
    "        \n",
    "        if self.length == 0:\n",
    "            self.head = node\n",
    "            self.tail = node\n",
    "        else:\n",
    "            self.tail.next = node\n",
    "            node.prev = self.tail\n",
    "            self.tail = node\n",
    "        \n",
    "        self.length += 1\n",
    "    \n",
    "    # == POP ==\n",
    "    def pop(self):\n",
    "        oldTail = self.tail\n",
    "\n",
    "        if self.length == 0:\n",
    "            return oldTail\n",
    "        elif self.length == 1:\n",
    "            self.head = None\n",
    "            self.tail = None\n",
    "        else:\n",
    "            newTail = oldTail.prev\n",
    "            \n",
    "            newTail.next   = None      # Cut connection of new tail next\n",
    "            oldTail.prev   = None      # Cut connection of current tail prev \n",
    "            self.tail      = newTail   # Define new tail\n",
    "            \n",
    "        self.length -= 1\n",
    "        \n",
    "        return oldTail\n",
    "    \n",
    "    # == SHIFT == \n",
    "    def shift(self):\n",
    "        oldHead = self.head\n",
    "        \n",
    "        if self.length == 0:\n",
    "            return None\n",
    "        elif self.length == 1:\n",
    "            self.head = None\n",
    "            self.tail = None\n",
    "        else:\n",
    "            newHead = oldHead.next\n",
    "            \n",
    "            newHead.prev = None\n",
    "            oldHead.next = None\n",
    "            self.head    = newHead\n",
    "            \n",
    "        self.length -= 1\n",
    "        \n",
    "        return oldHead\n",
    "    \n",
    "    # == UNSHIFT ==\n",
    "    def unshift(self, val):\n",
    "        newHead = Node(val)\n",
    "        \n",
    "        if self.length == 0:\n",
    "            self.head = newHead\n",
    "            self.tail = newHead            \n",
    "        else:\n",
    "            self.head.prev = newHead\n",
    "            newHead.next = self.head\n",
    "            self.head = newHead   \n",
    "            \n",
    "        self.length += 1"
   ]
  },
  {
   "cell_type": "code",
   "execution_count": 20,
   "metadata": {},
   "outputs": [],
   "source": [
    "dll = DoublyLinkedList()"
   ]
  },
  {
   "cell_type": "code",
   "execution_count": 21,
   "metadata": {},
   "outputs": [],
   "source": [
    "dll.push(\"Joey\")\n",
    "dll.push(\"Chan\")"
   ]
  },
  {
   "cell_type": "code",
   "execution_count": 22,
   "metadata": {},
   "outputs": [
    {
     "name": "stdout",
     "output_type": "stream",
     "text": [
      "{'head': <__main__.Node object at 0x000002D3C4CA8548>, 'tail': <__main__.Node object at 0x000002D3C4CA8048>, 'length': 2}\n",
      "{'val': 'Joey', 'next': <__main__.Node object at 0x000002D3C4CA8048>, 'prev': None}\n",
      "{'val': 'Chan', 'next': None, 'prev': <__main__.Node object at 0x000002D3C4CA8548>}\n"
     ]
    }
   ],
   "source": [
    "print(vars(dll))\n",
    "print(vars(dll.head))\n",
    "print(vars(dll.tail))"
   ]
  },
  {
   "cell_type": "code",
   "execution_count": 23,
   "metadata": {},
   "outputs": [],
   "source": [
    "dll.unshift('Ross')"
   ]
  },
  {
   "cell_type": "code",
   "execution_count": 24,
   "metadata": {},
   "outputs": [
    {
     "name": "stdout",
     "output_type": "stream",
     "text": [
      "{'head': <__main__.Node object at 0x000002D3C4CC0B08>, 'tail': <__main__.Node object at 0x000002D3C4CA8048>, 'length': 3}\n",
      "{'val': 'Ross', 'next': <__main__.Node object at 0x000002D3C4CA8548>, 'prev': None}\n",
      "{'val': 'Joey', 'next': <__main__.Node object at 0x000002D3C4CA8048>, 'prev': <__main__.Node object at 0x000002D3C4CC0B08>}\n",
      "{'val': 'Chan', 'next': None, 'prev': <__main__.Node object at 0x000002D3C4CA8548>}\n"
     ]
    }
   ],
   "source": [
    "print(vars(dll))\n",
    "print(vars(dll.head))\n",
    "print(vars(dll.head.next))\n",
    "print(vars(dll.tail))"
   ]
  },
  {
   "cell_type": "code",
   "execution_count": null,
   "metadata": {},
   "outputs": [],
   "source": []
  },
  {
   "cell_type": "markdown",
   "metadata": {},
   "source": [
    "## Get"
   ]
  },
  {
   "cell_type": "code",
   "execution_count": 25,
   "metadata": {},
   "outputs": [],
   "source": [
    "class DoublyLinkedList:\n",
    "    def __init__(self):\n",
    "        self.head   = None\n",
    "        self.tail   = None\n",
    "        self.length = 0\n",
    "    \n",
    "    # == PUSH ==\n",
    "    def push(self, val):\n",
    "        node = Node(val)\n",
    "        \n",
    "        if self.length == 0:\n",
    "            self.head = node\n",
    "            self.tail = node\n",
    "        else:\n",
    "            self.tail.next = node\n",
    "            node.prev = self.tail\n",
    "            self.tail = node\n",
    "        \n",
    "        self.length += 1\n",
    "    \n",
    "    # == POP ==\n",
    "    def pop(self):\n",
    "        oldTail = self.tail\n",
    "\n",
    "        if self.length == 0:\n",
    "            return oldTail\n",
    "        elif self.length == 1:\n",
    "            self.head = None\n",
    "            self.tail = None\n",
    "        else:\n",
    "            newTail = oldTail.prev\n",
    "            \n",
    "            newTail.next   = None      # Cut connection of new tail next\n",
    "            oldTail.prev   = None      # Cut connection of current tail prev \n",
    "            self.tail      = newTail   # Define new tail\n",
    "            \n",
    "        self.length -= 1\n",
    "        \n",
    "        return oldTail\n",
    "    \n",
    "    # == SHIFT == \n",
    "    def shift(self):\n",
    "        oldHead = self.head\n",
    "        \n",
    "        if self.length == 0:\n",
    "            return None\n",
    "        elif self.length == 1:\n",
    "            self.head = None\n",
    "            self.tail = None\n",
    "        else:\n",
    "            newHead = oldHead.next\n",
    "            \n",
    "            newHead.prev = None\n",
    "            oldHead.next = None\n",
    "            self.head    = newHead\n",
    "            \n",
    "        self.length -= 1\n",
    "        \n",
    "        return oldHead\n",
    "    \n",
    "    # == UNSHIFT ==\n",
    "    def unshift(self, val):\n",
    "        newHead = Node(val)\n",
    "        \n",
    "        if self.length == 0:\n",
    "            self.head = newHead\n",
    "            self.tail = newHead            \n",
    "        else:\n",
    "            self.head.prev = newHead\n",
    "            newHead.next = self.head\n",
    "            self.head = newHead   \n",
    "            \n",
    "        self.length += 1\n",
    "        \n",
    "    # == GET == \n",
    "    def get(self, idx):\n",
    "        if idx < 0 or idx >= self.length:\n",
    "            return None\n",
    "        \n",
    "        elif idx < self.length//2 : \n",
    "            # print('First half')\n",
    "            getNode = self.head\n",
    "            \n",
    "            for i in range(idx):\n",
    "                getNode = getNode.next\n",
    "                #print(f\"{i}, {vars(getNode)}\")\n",
    "        \n",
    "        elif idx >= self.length//2 : \n",
    "            # print('Second half')\n",
    "            getNode = self.tail\n",
    "            \n",
    "            for i in range(self.length-1, idx,  -1):\n",
    "                getNode = getNode.prev\n",
    "                #print(f\"{i}, {vars(getNode)}\")\n",
    "                \n",
    "        return getNode"
   ]
  },
  {
   "cell_type": "code",
   "execution_count": 26,
   "metadata": {},
   "outputs": [],
   "source": [
    "dll = DoublyLinkedList()"
   ]
  },
  {
   "cell_type": "code",
   "execution_count": 27,
   "metadata": {},
   "outputs": [],
   "source": [
    "dll.push(\"Mike\")\n",
    "dll.push(\"Jim\")\n",
    "dll.push(\"Dwight\")\n",
    "dll.push(\"Pam\")\n",
    "dll.push(\"Angela\")\n",
    "dll.push(\"Kevin\")\n",
    "dll.push(\"Oscar\")\n",
    "dll.push(\"Meredith\")\n",
    "dll.push(\"Creed\")\n",
    "dll.push(\"Phyllis\")\n",
    "dll.push(\"Stanley\")\n",
    "dll.push(\"Andy\")\n",
    "dll.push(\"Kelly\")\n",
    "dll.push(\"Ryan\")\n",
    "dll.push(\"Toby\")\n",
    "dll.push(\"Erin\")"
   ]
  },
  {
   "cell_type": "code",
   "execution_count": 28,
   "metadata": {},
   "outputs": [
    {
     "name": "stdout",
     "output_type": "stream",
     "text": [
      "{'head': <__main__.Node object at 0x000002D3C4C5F3C8>, 'tail': <__main__.Node object at 0x000002D3C4CC1D08>, 'length': 16}\n",
      "{'val': 'Mike', 'next': <__main__.Node object at 0x000002D3C4C5F748>, 'prev': None}\n",
      "{'val': 'Erin', 'next': None, 'prev': <__main__.Node object at 0x000002D3C4CC1BC8>}\n"
     ]
    }
   ],
   "source": [
    "print(vars(dll))\n",
    "print(vars(dll.head))\n",
    "print(vars(dll.tail))"
   ]
  },
  {
   "cell_type": "code",
   "execution_count": 29,
   "metadata": {},
   "outputs": [
    {
     "name": "stdout",
     "output_type": "stream",
     "text": [
      "Node returned:\n",
      "{'val': 'Erin', 'next': None, 'prev': <__main__.Node object at 0x000002D3C4CC1BC8>}\n"
     ]
    }
   ],
   "source": [
    "n = dll.get(15)\n",
    "print(f'Node returned:\\n{vars(n)}')"
   ]
  },
  {
   "cell_type": "code",
   "execution_count": 30,
   "metadata": {},
   "outputs": [
    {
     "name": "stdout",
     "output_type": "stream",
     "text": [
      "\n",
      "Node returned:\n",
      "{'val': 'Kelly', 'next': <__main__.Node object at 0x000002D3C4CC1E08>, 'prev': <__main__.Node object at 0x000002D3C4CC1E88>}\n"
     ]
    }
   ],
   "source": [
    "n = dll.get(12)\n",
    "print(f'\\nNode returned:\\n{vars(n)}')"
   ]
  },
  {
   "cell_type": "markdown",
   "metadata": {},
   "source": [
    "## Set"
   ]
  },
  {
   "cell_type": "code",
   "execution_count": 31,
   "metadata": {},
   "outputs": [],
   "source": [
    "class DoublyLinkedList:\n",
    "    def __init__(self):\n",
    "        self.head   = None\n",
    "        self.tail   = None\n",
    "        self.length = 0\n",
    "    \n",
    "    # == PUSH ==\n",
    "    def push(self, val):\n",
    "        node = Node(val)\n",
    "        \n",
    "        if self.length == 0:\n",
    "            self.head = node\n",
    "            self.tail = node\n",
    "        else:\n",
    "            self.tail.next = node\n",
    "            node.prev = self.tail\n",
    "            self.tail = node\n",
    "        \n",
    "        self.length += 1\n",
    "    \n",
    "    # == POP ==\n",
    "    def pop(self):\n",
    "        oldTail = self.tail\n",
    "\n",
    "        if self.length == 0:\n",
    "            return oldTail\n",
    "        elif self.length == 1:\n",
    "            self.head = None\n",
    "            self.tail = None\n",
    "        else:\n",
    "            newTail = oldTail.prev\n",
    "            \n",
    "            newTail.next   = None      # Cut connection of new tail next\n",
    "            oldTail.prev   = None      # Cut connection of current tail prev \n",
    "            self.tail      = newTail   # Define new tail\n",
    "            \n",
    "        self.length -= 1\n",
    "        \n",
    "        return oldTail\n",
    "    \n",
    "    # == SHIFT == \n",
    "    def shift(self):\n",
    "        oldHead = self.head\n",
    "        \n",
    "        if self.length == 0:\n",
    "            return None\n",
    "        elif self.length == 1:\n",
    "            self.head = None\n",
    "            self.tail = None\n",
    "        else:\n",
    "            newHead = oldHead.next\n",
    "            \n",
    "            newHead.prev = None\n",
    "            oldHead.next = None\n",
    "            self.head    = newHead\n",
    "            \n",
    "        self.length -= 1\n",
    "        \n",
    "        return oldHead\n",
    "    \n",
    "    # == UNSHIFT ==\n",
    "    def unshift(self, val):\n",
    "        newHead = Node(val)\n",
    "        \n",
    "        if self.length == 0:\n",
    "            self.head = newHead\n",
    "            self.tail = newHead            \n",
    "        else:\n",
    "            self.head.prev = newHead\n",
    "            newHead.next = self.head\n",
    "            self.head = newHead   \n",
    "            \n",
    "        self.length += 1\n",
    "        \n",
    "    # == GET == \n",
    "    def get(self, idx):\n",
    "        if idx < 0 or idx >= self.length:\n",
    "            return None\n",
    "        \n",
    "        elif idx < self.length//2 : \n",
    "            getNode = self.head\n",
    "            \n",
    "            for i in range(idx):\n",
    "                getNode = getNode.next\n",
    "        \n",
    "        elif idx >= self.length//2 : \n",
    "            getNode = self.tail\n",
    "            \n",
    "            for i in range(self.length-1, idx,  -1):\n",
    "                getNode = getNode.prev\n",
    "                \n",
    "        return getNode\n",
    "    \n",
    "    # == SET ==\n",
    "    def set(self, idx, val):\n",
    "        setNode = self.get(idx)\n",
    "        \n",
    "        if setNode:\n",
    "            setNode.val = val\n",
    "            return True\n",
    "        \n",
    "        return False"
   ]
  },
  {
   "cell_type": "code",
   "execution_count": 32,
   "metadata": {},
   "outputs": [],
   "source": [
    "dll = DoublyLinkedList()"
   ]
  },
  {
   "cell_type": "code",
   "execution_count": 33,
   "metadata": {},
   "outputs": [],
   "source": [
    "dll.push(\"Harry\")\n",
    "dll.push(\"Ron\")\n",
    "dll.push(\"Hermione\")"
   ]
  },
  {
   "cell_type": "code",
   "execution_count": 34,
   "metadata": {},
   "outputs": [
    {
     "name": "stdout",
     "output_type": "stream",
     "text": [
      "{'head': <__main__.Node object at 0x000002D3C4CBAF08>, 'tail': <__main__.Node object at 0x000002D3C4CBAF88>, 'length': 3}\n",
      "{'val': 'Harry', 'next': <__main__.Node object at 0x000002D3C4CBAEC8>, 'prev': None}\n",
      "{'val': 'Hermione', 'next': None, 'prev': <__main__.Node object at 0x000002D3C4CBAEC8>}\n"
     ]
    }
   ],
   "source": [
    "print(vars(dll))\n",
    "print(vars(dll.head))\n",
    "print(vars(dll.tail))"
   ]
  },
  {
   "cell_type": "code",
   "execution_count": 35,
   "metadata": {},
   "outputs": [
    {
     "data": {
      "text/plain": [
       "True"
      ]
     },
     "execution_count": 35,
     "metadata": {},
     "output_type": "execute_result"
    }
   ],
   "source": [
    "dll.set(1, \"Michael Scott\")"
   ]
  },
  {
   "cell_type": "code",
   "execution_count": 36,
   "metadata": {},
   "outputs": [
    {
     "name": "stdout",
     "output_type": "stream",
     "text": [
      "{'head': <__main__.Node object at 0x000002D3C4CBAF08>, 'tail': <__main__.Node object at 0x000002D3C4CBAF88>, 'length': 3}\n",
      "{'val': 'Harry', 'next': <__main__.Node object at 0x000002D3C4CBAEC8>, 'prev': None}\n",
      "{'val': 'Michael Scott', 'next': <__main__.Node object at 0x000002D3C4CBAF88>, 'prev': <__main__.Node object at 0x000002D3C4CBAF08>}\n",
      "{'val': 'Hermione', 'next': None, 'prev': <__main__.Node object at 0x000002D3C4CBAEC8>}\n"
     ]
    }
   ],
   "source": [
    "print(vars(dll))\n",
    "print(vars(dll.head))\n",
    "print(vars(dll.head.next))\n",
    "print(vars(dll.tail))"
   ]
  },
  {
   "cell_type": "code",
   "execution_count": null,
   "metadata": {},
   "outputs": [],
   "source": []
  },
  {
   "cell_type": "markdown",
   "metadata": {},
   "source": [
    "## Insert"
   ]
  },
  {
   "cell_type": "code",
   "execution_count": 37,
   "metadata": {},
   "outputs": [],
   "source": [
    "class DoublyLinkedList:\n",
    "    def __init__(self):\n",
    "        self.head   = None\n",
    "        self.tail   = None\n",
    "        self.length = 0\n",
    "    \n",
    "    # == PUSH ==\n",
    "    def push(self, val):\n",
    "        node = Node(val)\n",
    "        \n",
    "        if self.length == 0:\n",
    "            self.head = node\n",
    "            self.tail = node\n",
    "        else:\n",
    "            self.tail.next = node\n",
    "            node.prev = self.tail\n",
    "            self.tail = node\n",
    "        \n",
    "        self.length += 1\n",
    "    \n",
    "    # == POP ==\n",
    "    def pop(self):\n",
    "        oldTail = self.tail\n",
    "\n",
    "        if self.length == 0:\n",
    "            return oldTail\n",
    "        elif self.length == 1:\n",
    "            self.head = None\n",
    "            self.tail = None\n",
    "        else:\n",
    "            newTail = oldTail.prev\n",
    "            \n",
    "            newTail.next   = None      # Cut connection of new tail next\n",
    "            oldTail.prev   = None      # Cut connection of current tail prev \n",
    "            self.tail      = newTail   # Define new tail\n",
    "            \n",
    "        self.length -= 1\n",
    "        \n",
    "        return oldTail\n",
    "    \n",
    "    # == SHIFT == \n",
    "    def shift(self):\n",
    "        oldHead = self.head\n",
    "        \n",
    "        if self.length == 0:\n",
    "            return None\n",
    "        elif self.length == 1:\n",
    "            self.head = None\n",
    "            self.tail = None\n",
    "        else:\n",
    "            newHead = oldHead.next\n",
    "            \n",
    "            newHead.prev = None\n",
    "            oldHead.next = None\n",
    "            self.head    = newHead\n",
    "            \n",
    "        self.length -= 1\n",
    "        \n",
    "        return oldHead\n",
    "    \n",
    "    # == UNSHIFT ==\n",
    "    def unshift(self, val):\n",
    "        newHead = Node(val)\n",
    "        \n",
    "        if self.length == 0:\n",
    "            self.head = newHead\n",
    "            self.tail = newHead            \n",
    "        else:\n",
    "            self.head.prev = newHead\n",
    "            newHead.next = self.head\n",
    "            self.head = newHead   \n",
    "            \n",
    "        self.length += 1\n",
    "        \n",
    "    # == GET == \n",
    "    def get(self, idx):\n",
    "        if idx < 0 or idx >= self.length:\n",
    "            return None\n",
    "        \n",
    "        elif idx < self.length//2 : \n",
    "            getNode = self.head\n",
    "            \n",
    "            for i in range(idx):\n",
    "                getNode = getNode.next\n",
    "        \n",
    "        elif idx >= self.length//2 : \n",
    "            getNode = self.tail\n",
    "            \n",
    "            for i in range(self.length-1, idx,  -1):\n",
    "                getNode = getNode.prev\n",
    "                \n",
    "        return getNode\n",
    "    \n",
    "    # == SET ==\n",
    "    def set(self, idx, val):\n",
    "        setNode = self.get(idx)\n",
    "        \n",
    "        if setNode:\n",
    "            setNode.val = val\n",
    "            return True\n",
    "        \n",
    "        return False\n",
    "    \n",
    "    # == INSERT == \n",
    "    def insert(self, idx, val):\n",
    "        if idx < 0 or idx > self.length:\n",
    "            print('undefined')\n",
    "            return None\n",
    "        elif idx == 0:\n",
    "            return self.unshift(val)\n",
    "        elif idx == self.length:\n",
    "            return self.push(val)\n",
    "        else:\n",
    "            newNode = Node(val)\n",
    "            preNode = self.get(idx-1)            \n",
    "            nexNode = preNode.next\n",
    "            \n",
    "            newNode.prev = preNode\n",
    "            preNode.next = newNode\n",
    "            \n",
    "            newNode.next = nexNode\n",
    "            nexNode.prev = newNode\n",
    "        \n",
    "        self.length += 1\n",
    "        return True"
   ]
  },
  {
   "cell_type": "code",
   "execution_count": 38,
   "metadata": {},
   "outputs": [],
   "source": [
    "dll = DoublyLinkedList()"
   ]
  },
  {
   "cell_type": "code",
   "execution_count": 39,
   "metadata": {},
   "outputs": [],
   "source": [
    "dll.push(\"Harry\")\n",
    "dll.push(\"Ron\")\n",
    "dll.push(\"Hermione\")"
   ]
  },
  {
   "cell_type": "code",
   "execution_count": 40,
   "metadata": {},
   "outputs": [
    {
     "name": "stdout",
     "output_type": "stream",
     "text": [
      "{'head': <__main__.Node object at 0x000002D3C4C9B748>, 'tail': <__main__.Node object at 0x000002D3C4C9BB48>, 'length': 3}\n",
      "{'val': 'Harry', 'next': <__main__.Node object at 0x000002D3C4C9B548>, 'prev': None}\n",
      "{'val': 'Hermione', 'next': None, 'prev': <__main__.Node object at 0x000002D3C4C9B548>}\n"
     ]
    }
   ],
   "source": [
    "print(vars(dll))\n",
    "print(vars(dll.head))\n",
    "print(vars(dll.tail))"
   ]
  },
  {
   "cell_type": "code",
   "execution_count": 41,
   "metadata": {},
   "outputs": [
    {
     "name": "stdout",
     "output_type": "stream",
     "text": [
      "undefined\n"
     ]
    }
   ],
   "source": [
    "dll.insert(-1, \"BBBB\")"
   ]
  },
  {
   "cell_type": "code",
   "execution_count": 42,
   "metadata": {},
   "outputs": [
    {
     "name": "stdout",
     "output_type": "stream",
     "text": [
      "{'head': <__main__.Node object at 0x000002D3C4C9B748>, 'tail': <__main__.Node object at 0x000002D3C4C9BB48>, 'length': 3}\n",
      "{'val': 'Harry', 'next': <__main__.Node object at 0x000002D3C4C9B548>, 'prev': None}\n",
      "{'val': 'Ron', 'next': <__main__.Node object at 0x000002D3C4C9BB48>, 'prev': <__main__.Node object at 0x000002D3C4C9B748>}\n",
      "{'val': 'Ron', 'next': <__main__.Node object at 0x000002D3C4C9BB48>, 'prev': <__main__.Node object at 0x000002D3C4C9B748>}\n",
      "{'val': 'Hermione', 'next': None, 'prev': <__main__.Node object at 0x000002D3C4C9B548>}\n"
     ]
    }
   ],
   "source": [
    "print(vars(dll))\n",
    "print(vars(dll.head))\n",
    "print(vars(dll.head.next))\n",
    "print(vars(dll.tail.prev))\n",
    "print(vars(dll.tail))"
   ]
  },
  {
   "cell_type": "code",
   "execution_count": null,
   "metadata": {},
   "outputs": [],
   "source": []
  },
  {
   "cell_type": "markdown",
   "metadata": {},
   "source": [
    "## Remove"
   ]
  },
  {
   "cell_type": "code",
   "execution_count": 43,
   "metadata": {},
   "outputs": [],
   "source": [
    "class DoublyLinkedList:\n",
    "    def __init__(self):\n",
    "        self.head   = None\n",
    "        self.tail   = None\n",
    "        self.length = 0\n",
    "    \n",
    "    # == PUSH ==\n",
    "    def push(self, val):\n",
    "        node = Node(val)\n",
    "        \n",
    "        if self.length == 0:\n",
    "            self.head = node\n",
    "            self.tail = node\n",
    "        else:\n",
    "            self.tail.next = node\n",
    "            node.prev = self.tail\n",
    "            self.tail = node\n",
    "        \n",
    "        self.length += 1\n",
    "    \n",
    "    # == POP ==\n",
    "    def pop(self):\n",
    "        oldTail = self.tail\n",
    "\n",
    "        if self.length == 0:\n",
    "            return oldTail\n",
    "        elif self.length == 1:\n",
    "            self.head = None\n",
    "            self.tail = None\n",
    "        else:\n",
    "            newTail = oldTail.prev\n",
    "            \n",
    "            newTail.next   = None      # Cut connection of new tail next\n",
    "            oldTail.prev   = None      # Cut connection of current tail prev \n",
    "            self.tail      = newTail   # Define new tail\n",
    "            \n",
    "        self.length -= 1\n",
    "        \n",
    "        return oldTail\n",
    "    \n",
    "    # == SHIFT == \n",
    "    def shift(self):\n",
    "        oldHead = self.head\n",
    "        \n",
    "        if self.length == 0:\n",
    "            return None\n",
    "        elif self.length == 1:\n",
    "            self.head = None\n",
    "            self.tail = None\n",
    "        else:\n",
    "            newHead = oldHead.next\n",
    "            \n",
    "            newHead.prev = None\n",
    "            oldHead.next = None\n",
    "            self.head    = newHead\n",
    "            \n",
    "        self.length -= 1\n",
    "        \n",
    "        return oldHead\n",
    "    \n",
    "    # == UNSHIFT ==\n",
    "    def unshift(self, val):\n",
    "        newHead = Node(val)\n",
    "        \n",
    "        if self.length == 0:\n",
    "            self.head = newHead\n",
    "            self.tail = newHead            \n",
    "        else:\n",
    "            self.head.prev = newHead\n",
    "            newHead.next = self.head\n",
    "            self.head = newHead   \n",
    "            \n",
    "        self.length += 1\n",
    "        \n",
    "    # == GET == \n",
    "    def get(self, idx):\n",
    "        if idx < 0 or idx >= self.length:\n",
    "            return None\n",
    "        \n",
    "        elif idx < self.length//2 : \n",
    "            getNode = self.head\n",
    "            \n",
    "            for i in range(idx):\n",
    "                getNode = getNode.next\n",
    "        \n",
    "        elif idx >= self.length//2 : \n",
    "            getNode = self.tail\n",
    "            \n",
    "            for i in range(self.length-1, idx,  -1):\n",
    "                getNode = getNode.prev\n",
    "                \n",
    "        return getNode\n",
    "    \n",
    "    # == SET ==\n",
    "    def set(self, idx, val):\n",
    "        setNode = self.get(idx)\n",
    "        \n",
    "        if setNode:\n",
    "            setNode.val = val\n",
    "            return True\n",
    "        \n",
    "        return False\n",
    "    \n",
    "    # == INSERT == \n",
    "    def insert(self, idx, val):\n",
    "        if idx < 0 or idx > self.length:\n",
    "            print('undefined')\n",
    "            return None\n",
    "        elif idx == 0:\n",
    "            return self.unshift(val)\n",
    "        elif idx == self.length:\n",
    "            return self.push(val)\n",
    "        else:\n",
    "            newNode = Node(val)\n",
    "            preNode = self.get(idx-1)            \n",
    "            nexNode = preNode.next\n",
    "            \n",
    "            newNode.prev = preNode\n",
    "            preNode.next = newNode\n",
    "            \n",
    "            newNode.next = nexNode\n",
    "            nexNode.prev = newNode\n",
    "        \n",
    "        self.length += 1\n",
    "        return True\n",
    "    \n",
    "    # == REMOVE ==\n",
    "    def remove(self, idx):\n",
    "        if idx < 0 or idx >= self.length:\n",
    "            print('undefined')\n",
    "            return None\n",
    "        elif idx == 0:\n",
    "            return self.shift()\n",
    "        elif idx == self.length-1:\n",
    "            return self.pop()\n",
    "        else:\n",
    "            rmvNode = self.get(idx)\n",
    "\n",
    "            rmvNode.prev.next = rmvNode.next\n",
    "            rmvNode.next.prev = rmvNode.prev\n",
    "            rmvNode.prev = None; rmvNode.next = None\n",
    "            \n",
    "        self.length -= 1\n",
    "        return rmvNode"
   ]
  },
  {
   "cell_type": "code",
   "execution_count": 44,
   "metadata": {},
   "outputs": [],
   "source": [
    "dll = DoublyLinkedList()"
   ]
  },
  {
   "cell_type": "code",
   "execution_count": 45,
   "metadata": {},
   "outputs": [],
   "source": [
    "dll.push(\"Harry\")\n",
    "dll.push(\"Ron\")\n",
    "dll.push(\"Hermione\")"
   ]
  },
  {
   "cell_type": "code",
   "execution_count": 46,
   "metadata": {},
   "outputs": [
    {
     "name": "stdout",
     "output_type": "stream",
     "text": [
      "{'head': <__main__.Node object at 0x000002D3C4CC3288>, 'tail': <__main__.Node object at 0x000002D3C4CC34C8>, 'length': 3}\n",
      "{'val': 'Harry', 'next': <__main__.Node object at 0x000002D3C4CC3048>, 'prev': None}\n",
      "{'val': 'Hermione', 'next': None, 'prev': <__main__.Node object at 0x000002D3C4CC3048>}\n"
     ]
    }
   ],
   "source": [
    "print(vars(dll))\n",
    "print(vars(dll.head))\n",
    "print(vars(dll.tail))"
   ]
  },
  {
   "cell_type": "code",
   "execution_count": 47,
   "metadata": {},
   "outputs": [
    {
     "data": {
      "text/plain": [
       "{'val': 'Hermione', 'next': None, 'prev': None}"
      ]
     },
     "execution_count": 47,
     "metadata": {},
     "output_type": "execute_result"
    }
   ],
   "source": [
    "# Make sure no lingering on both end and prev\n",
    "vars(dll.remove(2))"
   ]
  },
  {
   "cell_type": "code",
   "execution_count": 48,
   "metadata": {},
   "outputs": [
    {
     "name": "stdout",
     "output_type": "stream",
     "text": [
      "{'head': <__main__.Node object at 0x000002D3C4CC3288>, 'tail': <__main__.Node object at 0x000002D3C4CC3048>, 'length': 2}\n",
      "{'val': 'Harry', 'next': <__main__.Node object at 0x000002D3C4CC3048>, 'prev': None}\n",
      "{'val': 'Ron', 'next': None, 'prev': <__main__.Node object at 0x000002D3C4CC3288>}\n",
      "{'val': 'Ron', 'next': None, 'prev': <__main__.Node object at 0x000002D3C4CC3288>}\n"
     ]
    }
   ],
   "source": [
    "print(vars(dll))\n",
    "print(vars(dll.head))\n",
    "print(vars(dll.head.next))\n",
    "print(vars(dll.tail))"
   ]
  },
  {
   "cell_type": "markdown",
   "metadata": {},
   "source": [
    "## Doubly Big O\n",
    "- Insertion O(1)\n",
    "- Removal O(1)\n",
    "- Searching O(N)\n",
    "- Access O(N)\n",
    "\n",
    "Technically searching is O(N/2), but that's still O(N)"
   ]
  },
  {
   "cell_type": "code",
   "execution_count": null,
   "metadata": {},
   "outputs": [],
   "source": []
  }
 ],
 "metadata": {
  "kernelspec": {
   "display_name": "Python 3",
   "language": "python",
   "name": "python3"
  },
  "language_info": {
   "codemirror_mode": {
    "name": "ipython",
    "version": 3
   },
   "file_extension": ".py",
   "mimetype": "text/x-python",
   "name": "python",
   "nbconvert_exporter": "python",
   "pygments_lexer": "ipython3",
   "version": "3.7.9"
  }
 },
 "nbformat": 4,
 "nbformat_minor": 4
}
