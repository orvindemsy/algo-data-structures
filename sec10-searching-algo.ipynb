{
 "cells": [
  {
   "cell_type": "markdown",
   "metadata": {},
   "source": [
    "# Section 10: Searching Algorithms"
   ]
  },
  {
   "cell_type": "markdown",
   "metadata": {},
   "source": [
    "## Linear Search"
   ]
  },
  {
   "cell_type": "code",
   "execution_count": 15,
   "metadata": {},
   "outputs": [],
   "source": [
    "# Examples\n",
    "# linearSearch([10, 15, 20, 25, 30], 15) // 1\n",
    "# linearSearch([9, 8, 7, 6, 5, 4, 3, 2, 1, 0], 4) //5\n",
    "# linearSearch([1, 2, 3, 4, 5], 6) // -1"
   ]
  },
  {
   "cell_type": "code",
   "execution_count": 16,
   "metadata": {},
   "outputs": [],
   "source": [
    "def linearSearch(arr, val):\n",
    "    for i in range(len(arr)):\n",
    "        if arr[i] == val:\n",
    "            return i\n",
    "    return -1"
   ]
  },
  {
   "cell_type": "code",
   "execution_count": 17,
   "metadata": {},
   "outputs": [],
   "source": [
    "# arr = [10, 15, 20, 25, 30]\n",
    "arr = [1, 2, 3, 4, 5]"
   ]
  },
  {
   "cell_type": "code",
   "execution_count": 18,
   "metadata": {},
   "outputs": [
    {
     "data": {
      "text/plain": [
       "-1"
      ]
     },
     "execution_count": 18,
     "metadata": {},
     "output_type": "execute_result"
    }
   ],
   "source": [
    "linearSearch(arr, 6)"
   ]
  },
  {
   "cell_type": "code",
   "execution_count": null,
   "metadata": {},
   "outputs": [],
   "source": []
  },
  {
   "cell_type": "markdown",
   "metadata": {},
   "source": [
    "## Binary Search"
   ]
  },
  {
   "cell_type": "code",
   "execution_count": 19,
   "metadata": {},
   "outputs": [],
   "source": [
    "# # Create function that accepts sorted array, return index at which value exist\n",
    "# Example:\n",
    "# binarySearch([1, 2, 3, 4, 5], 2) // 1\n",
    "# binarySearch([1, 2, 3, 4, 5], 3) // 2\n",
    "# binarySearch([1, 2, 3, 4, 5], 6) // -1"
   ]
  },
  {
   "cell_type": "code",
   "execution_count": 20,
   "metadata": {},
   "outputs": [],
   "source": [
    "from math import floor                 \n",
    "def binarySearch(arr, val):\n",
    "    # First define start middle and end index\n",
    "    sidx = 0\n",
    "    eidx = len(arr)-1\n",
    "    midx = floor(sidx + eidx/2)\n",
    "\n",
    "    # While arr[cidx] != val and sidx < eidx\n",
    "    while((arr[midx] != val) and (sidx < eidx)):\n",
    "        #print(f\"{sidx} {midx} {eidx}\")\n",
    "        \n",
    "        if arr[midx] > val:\n",
    "            eidx = midx-1\n",
    "\n",
    "        elif arr[midx] < val: \n",
    "            sidx = midx+1\n",
    "\n",
    "        midx = floor((eidx+sidx)/2)\n",
    "        \n",
    "    # return index or -1\n",
    "    if arr[midx] == val:\n",
    "        return midx\n",
    "\n",
    "    return -1"
   ]
  },
  {
   "cell_type": "code",
   "execution_count": 21,
   "metadata": {},
   "outputs": [],
   "source": [
    "arr = [1, 5, 8, 10, 11, 15, 23, 33]\n",
    "val = 33"
   ]
  },
  {
   "cell_type": "code",
   "execution_count": 22,
   "metadata": {},
   "outputs": [
    {
     "data": {
      "text/plain": [
       "7"
      ]
     },
     "execution_count": 22,
     "metadata": {},
     "output_type": "execute_result"
    }
   ],
   "source": [
    "binarySearch(arr, val)"
   ]
  },
  {
   "cell_type": "code",
   "execution_count": null,
   "metadata": {},
   "outputs": [],
   "source": []
  },
  {
   "cell_type": "markdown",
   "metadata": {},
   "source": [
    "## Naive String Search"
   ]
  },
  {
   "cell_type": "code",
   "execution_count": 23,
   "metadata": {},
   "outputs": [],
   "source": [
    "## Create function that accepts long stirng and short string, \n",
    "##  count the number short string appears in long one\n",
    "# long  = 'wow love yes wowwow'\n",
    "# short = 'wow'\n",
    "# naiveSearch(long, short) // 3"
   ]
  },
  {
   "cell_type": "code",
   "execution_count": 24,
   "metadata": {},
   "outputs": [],
   "source": [
    "# My solution\n",
    "def naiveSearch1(long, short):\n",
    "    count = 0\n",
    "    for i in range(len(long) - len(short) + 1):\n",
    "        if short == long[i:i+len(short)]:\n",
    "            count += 1\n",
    "    \n",
    "    return count"
   ]
  },
  {
   "cell_type": "code",
   "execution_count": 25,
   "metadata": {},
   "outputs": [],
   "source": [
    "# Udemy solution\n",
    "def nativeSearch2(long, short):\n",
    "    count = 0\n",
    "    \n",
    "    for i in range(len(long)):\n",
    "        for j in range(len(short)):\n",
    "            # print(long[i+j], short[j])\n",
    "\n",
    "            if short[j] != long[i+j]:\n",
    "                print('BREAK')\n",
    "                break\n",
    "            if j == len(short) - 1:\n",
    "                count += 1\n",
    "    \n",
    "    return count"
   ]
  },
  {
   "cell_type": "code",
   "execution_count": 26,
   "metadata": {},
   "outputs": [],
   "source": [
    "long = 'lorie loledlol'\n",
    "short = 'lol'"
   ]
  },
  {
   "cell_type": "code",
   "execution_count": 1,
   "metadata": {},
   "outputs": [],
   "source": [
    "# Will be fixed later\n",
    "# nativeSearch2(long, short)"
   ]
  },
  {
   "cell_type": "code",
   "execution_count": null,
   "metadata": {},
   "outputs": [],
   "source": []
  },
  {
   "cell_type": "code",
   "execution_count": null,
   "metadata": {},
   "outputs": [],
   "source": []
  },
  {
   "cell_type": "code",
   "execution_count": null,
   "metadata": {},
   "outputs": [],
   "source": []
  },
  {
   "cell_type": "code",
   "execution_count": null,
   "metadata": {},
   "outputs": [],
   "source": []
  }
 ],
 "metadata": {
  "kernelspec": {
   "display_name": "Python 3",
   "language": "python",
   "name": "python3"
  },
  "language_info": {
   "codemirror_mode": {
    "name": "ipython",
    "version": 3
   },
   "file_extension": ".py",
   "mimetype": "text/x-python",
   "name": "python",
   "nbconvert_exporter": "python",
   "pygments_lexer": "ipython3",
   "version": "3.7.9"
  }
 },
 "nbformat": 4,
 "nbformat_minor": 4
}
