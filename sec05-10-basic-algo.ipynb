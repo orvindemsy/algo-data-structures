{
 "cells": [
  {
   "cell_type": "markdown",
   "metadata": {},
   "source": [
    "https://www.udemy.com/course/js-algorithms-and-data-structures-masterclass/learn/lecture/9816152#notes"
   ]
  },
  {
   "cell_type": "markdown",
   "metadata": {},
   "source": [
    "# Section 5 Problem Solving Patterns"
   ]
  },
  {
   "cell_type": "markdown",
   "metadata": {},
   "source": [
    "## Anagram"
   ]
  },
  {
   "cell_type": "code",
   "execution_count": 1,
   "metadata": {},
   "outputs": [],
   "source": [
    "def validAnagram(arr1, arr2):\n",
    "    # If both lengths are not equal they are false\n",
    "    if len(arr1) != len(arr2):\n",
    "        return False\n",
    "    \n",
    "    # Define two object\n",
    "    FreqArr1 = {}\n",
    "    FreqArr2 = {}\n",
    "    \n",
    "    # Dict object of arr1\n",
    "    for i in arr1:\n",
    "        if i not in FreqArr1:\n",
    "            FreqArr1[i] = 1\n",
    "        else:\n",
    "            FreqArr1[i] += 1\n",
    "    \n",
    "    # Dict object of arr2\n",
    "    for i in arr2:\n",
    "        if i not in FreqArr2:\n",
    "            FreqArr2[i] = 1\n",
    "        else:\n",
    "            FreqArr2[i] += 1\n",
    "            \n",
    "    \n",
    "    # Compare both object's items key value pair should be equal\n",
    "    for key in FreqArr1.keys():\n",
    "        if (key not in FreqArr2) or (FreqArr1[key] != FreqArr2[key]):\n",
    "            return False\n",
    "    \n",
    "    return True"
   ]
  },
  {
   "cell_type": "code",
   "execution_count": 2,
   "metadata": {},
   "outputs": [],
   "source": [
    "# Sample input\n",
    "# text1 = 'azz'\n",
    "# text2 = 'zza'\n",
    "\n",
    "# text1 = 'iceman'\n",
    "# text2 = 'manice'\n",
    "\n",
    "text1 = 'racecar'\n",
    "text2 = 'carrace'"
   ]
  },
  {
   "cell_type": "code",
   "execution_count": 3,
   "metadata": {},
   "outputs": [
    {
     "data": {
      "text/plain": [
       "True"
      ]
     },
     "execution_count": 3,
     "metadata": {},
     "output_type": "execute_result"
    }
   ],
   "source": [
    "validAnagram(text1, text2)"
   ]
  },
  {
   "cell_type": "code",
   "execution_count": null,
   "metadata": {},
   "outputs": [],
   "source": []
  },
  {
   "cell_type": "code",
   "execution_count": null,
   "metadata": {},
   "outputs": [],
   "source": []
  },
  {
   "cell_type": "markdown",
   "metadata": {},
   "source": [
    "## countUniqueValues"
   ]
  },
  {
   "cell_type": "code",
   "execution_count": 4,
   "metadata": {},
   "outputs": [],
   "source": [
    "def countUnique(arr):\n",
    "    if len(arr) < 1:\n",
    "        return 0\n",
    "    \n",
    "    # First define two pointers of adjacent array index\n",
    "    # Set two pointers i starts at 0, j starts at 1\n",
    "    i = 0\n",
    "    j = 1\n",
    "\n",
    "    # While the pointer is less than array length\n",
    "    while j < len(arr):\n",
    "        # Compare i and j\n",
    "        # If same then j + 1\n",
    "        if arr[i] == arr[j]: \n",
    "            j += 1\n",
    "\n",
    "        else:\n",
    "        # If not same then i + 1 and arr[i] = arr[j]\n",
    "            i += 1\n",
    "            arr[i] = arr[j]\n",
    "\n",
    "    # Then return the value of i + 1\n",
    "    return i + 1"
   ]
  },
  {
   "cell_type": "code",
   "execution_count": 7,
   "metadata": {},
   "outputs": [],
   "source": [
    "#Input\n",
    "arr = [1, 1, 2, 3, 4, 4, 5, 5, 5]\n",
    "#arr = [1, 2, 2]"
   ]
  },
  {
   "cell_type": "code",
   "execution_count": 8,
   "metadata": {},
   "outputs": [
    {
     "data": {
      "text/plain": [
       "5"
      ]
     },
     "execution_count": 8,
     "metadata": {},
     "output_type": "execute_result"
    }
   ],
   "source": [
    "countUnique(arr)"
   ]
  },
  {
   "cell_type": "code",
   "execution_count": null,
   "metadata": {},
   "outputs": [],
   "source": []
  },
  {
   "cell_type": "code",
   "execution_count": null,
   "metadata": {},
   "outputs": [],
   "source": []
  },
  {
   "cell_type": "markdown",
   "metadata": {},
   "source": [
    "# Section 8 Recursion Problem"
   ]
  },
  {
   "cell_type": "markdown",
   "metadata": {},
   "source": [
    "## power"
   ]
  },
  {
   "cell_type": "code",
   "execution_count": 9,
   "metadata": {},
   "outputs": [],
   "source": [
    "## Example\n",
    "# pow(2, 0) = 1\n",
    "# pow(2, 2) = 4\n",
    "# pow(2, 4) = 16"
   ]
  },
  {
   "cell_type": "code",
   "execution_count": 10,
   "metadata": {},
   "outputs": [],
   "source": [
    "def poww(x, p):\n",
    "    # Create base case\n",
    "    if p == 0:\n",
    "        return 1\n",
    "    \n",
    "    # Create recursion\n",
    "    return x * pow(x, p-1)"
   ]
  },
  {
   "cell_type": "code",
   "execution_count": 11,
   "metadata": {},
   "outputs": [
    {
     "name": "stdout",
     "output_type": "stream",
     "text": [
      "1\n",
      "4\n",
      "16\n"
     ]
    }
   ],
   "source": [
    "print(poww(2, 0))\n",
    "print(poww(2, 2))\n",
    "print(poww(2, 4))"
   ]
  },
  {
   "cell_type": "code",
   "execution_count": null,
   "metadata": {},
   "outputs": [],
   "source": []
  },
  {
   "cell_type": "markdown",
   "metadata": {},
   "source": [
    "## recursiveRange\n",
    "Create function that adds up number from `0` to number passed into the function"
   ]
  },
  {
   "cell_type": "code",
   "execution_count": 12,
   "metadata": {},
   "outputs": [],
   "source": [
    "# SAMPLE INPUT/OUTPUT\n",
    "# recursiveRange(6) // 21\n",
    "# recursiveRange(10) // 55 "
   ]
  },
  {
   "cell_type": "code",
   "execution_count": 13,
   "metadata": {},
   "outputs": [],
   "source": [
    "def recursiveRange(n):\n",
    "    # Base case\n",
    "    if n == 1:\n",
    "        return 1\n",
    "    # Recursion\n",
    "    return n + recursiveRange(n-1)"
   ]
  },
  {
   "cell_type": "code",
   "execution_count": 14,
   "metadata": {},
   "outputs": [
    {
     "name": "stdout",
     "output_type": "stream",
     "text": [
      "21\n",
      "55\n"
     ]
    }
   ],
   "source": [
    "print(recursiveRange(6))\n",
    "print(recursiveRange(10))"
   ]
  },
  {
   "cell_type": "code",
   "execution_count": null,
   "metadata": {},
   "outputs": [],
   "source": []
  },
  {
   "cell_type": "markdown",
   "metadata": {},
   "source": [
    "# Section 10: Searching Algorithms"
   ]
  },
  {
   "cell_type": "markdown",
   "metadata": {},
   "source": [
    "## Linear Search"
   ]
  },
  {
   "cell_type": "code",
   "execution_count": 15,
   "metadata": {},
   "outputs": [],
   "source": [
    "# Examples\n",
    "# linearSearch([10, 15, 20, 25, 30], 15) // 1\n",
    "# linearSearch([9, 8, 7, 6, 5, 4, 3, 2, 1, 0], 4) //5\n",
    "# linearSearch([1, 2, 3, 4, 5], 6) // -1"
   ]
  },
  {
   "cell_type": "code",
   "execution_count": 16,
   "metadata": {},
   "outputs": [],
   "source": [
    "def linearSearch(arr, val):\n",
    "    for i in range(len(arr)):\n",
    "        if arr[i] == val:\n",
    "            return i\n",
    "    return -1"
   ]
  },
  {
   "cell_type": "code",
   "execution_count": 17,
   "metadata": {},
   "outputs": [],
   "source": [
    "# arr = [10, 15, 20, 25, 30]\n",
    "arr = [1, 2, 3, 4, 5]"
   ]
  },
  {
   "cell_type": "code",
   "execution_count": 18,
   "metadata": {},
   "outputs": [
    {
     "data": {
      "text/plain": [
       "-1"
      ]
     },
     "execution_count": 18,
     "metadata": {},
     "output_type": "execute_result"
    }
   ],
   "source": [
    "linearSearch(arr, 6)"
   ]
  },
  {
   "cell_type": "code",
   "execution_count": null,
   "metadata": {},
   "outputs": [],
   "source": []
  },
  {
   "cell_type": "markdown",
   "metadata": {},
   "source": [
    "## Binary Search"
   ]
  },
  {
   "cell_type": "code",
   "execution_count": 19,
   "metadata": {},
   "outputs": [],
   "source": [
    "# # Create function that accepts sorted array, return index at which value exist\n",
    "# Example:\n",
    "# binarySearch([1, 2, 3, 4, 5], 2) // 1\n",
    "# binarySearch([1, 2, 3, 4, 5], 3) // 2\n",
    "# binarySearch([1, 2, 3, 4, 5], 6) // -1"
   ]
  },
  {
   "cell_type": "code",
   "execution_count": 20,
   "metadata": {},
   "outputs": [],
   "source": [
    "from math import floor                 \n",
    "def binarySearch(arr, val):\n",
    "    # First define start middle and end index\n",
    "    sidx = 0\n",
    "    eidx = len(arr)-1\n",
    "    midx = floor(sidx + eidx/2)\n",
    "\n",
    "    # While arr[cidx] != val and sidx < eidx\n",
    "    while((arr[midx] != val) and (sidx < eidx)):\n",
    "        #print(f\"{sidx} {midx} {eidx}\")\n",
    "        \n",
    "        if arr[midx] > val:\n",
    "            eidx = midx - 1\n",
    "\n",
    "        elif arr[midx] < val: \n",
    "            sidx = midx+1\n",
    "\n",
    "        midx = floor((eidx+sidx)/2)\n",
    "        \n",
    "    # return index or -1\n",
    "    if arr[midx] == val:\n",
    "        return midx\n",
    "\n",
    "    return -1"
   ]
  },
  {
   "cell_type": "code",
   "execution_count": 21,
   "metadata": {},
   "outputs": [],
   "source": [
    "arr = [1, 5, 8, 10, 11, 15, 23, 33]\n",
    "val = 33"
   ]
  },
  {
   "cell_type": "code",
   "execution_count": 22,
   "metadata": {},
   "outputs": [
    {
     "data": {
      "text/plain": [
       "7"
      ]
     },
     "execution_count": 22,
     "metadata": {},
     "output_type": "execute_result"
    }
   ],
   "source": [
    "binarySearch(arr, val)"
   ]
  },
  {
   "cell_type": "code",
   "execution_count": null,
   "metadata": {},
   "outputs": [],
   "source": []
  },
  {
   "cell_type": "markdown",
   "metadata": {},
   "source": [
    "## Naive String Search"
   ]
  },
  {
   "cell_type": "code",
   "execution_count": 23,
   "metadata": {},
   "outputs": [],
   "source": [
    "## Create function that accepts long stirng and short string, \n",
    "##  count the number short string appears in long one\n",
    "# long  = 'wow love yes wowwow'\n",
    "# short = 'wow'\n",
    "# naiveSearch(long, short) // 3"
   ]
  },
  {
   "cell_type": "code",
   "execution_count": 24,
   "metadata": {},
   "outputs": [],
   "source": [
    "# My solution\n",
    "def naiveSearch1(long, short):\n",
    "    count = 0\n",
    "    for i in range(len(long) - len(short) + 1):\n",
    "        if short == long[i:i+len(short)]:\n",
    "            count += 1\n",
    "    \n",
    "    return count"
   ]
  },
  {
   "cell_type": "code",
   "execution_count": 25,
   "metadata": {},
   "outputs": [],
   "source": [
    "# Udemy solution\n",
    "def nativeSearch2(long, short):\n",
    "    count = 0\n",
    "    \n",
    "    for i in range(len(long)):\n",
    "        for j in range(len(short)):\n",
    "            # print(long[i+j], short[j])\n",
    "\n",
    "            if short[j] != long[i+j]:\n",
    "                print('BREAK')\n",
    "                break\n",
    "            if j == len(short) - 1:\n",
    "                count += 1\n",
    "    \n",
    "    return count"
   ]
  },
  {
   "cell_type": "code",
   "execution_count": 26,
   "metadata": {},
   "outputs": [],
   "source": [
    "long = 'lorie loledlol'\n",
    "short = 'lol'"
   ]
  },
  {
   "cell_type": "code",
   "execution_count": 1,
   "metadata": {},
   "outputs": [],
   "source": [
    "# Will be fixed later\n",
    "# nativeSearch2(long, short)"
   ]
  },
  {
   "cell_type": "code",
   "execution_count": null,
   "metadata": {},
   "outputs": [],
   "source": []
  },
  {
   "cell_type": "code",
   "execution_count": null,
   "metadata": {},
   "outputs": [],
   "source": []
  },
  {
   "cell_type": "code",
   "execution_count": null,
   "metadata": {},
   "outputs": [],
   "source": []
  },
  {
   "cell_type": "code",
   "execution_count": null,
   "metadata": {},
   "outputs": [],
   "source": []
  }
 ],
 "metadata": {
  "kernelspec": {
   "display_name": "Python 3",
   "language": "python",
   "name": "python3"
  },
  "language_info": {
   "codemirror_mode": {
    "name": "ipython",
    "version": 3
   },
   "file_extension": ".py",
   "mimetype": "text/x-python",
   "name": "python",
   "nbconvert_exporter": "python",
   "pygments_lexer": "ipython3",
   "version": "3.7.9"
  }
 },
 "nbformat": 4,
 "nbformat_minor": 4
}
