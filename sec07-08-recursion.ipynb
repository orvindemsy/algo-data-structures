{
 "cells": [
  {
   "cell_type": "markdown",
   "metadata": {},
   "source": [
    "# Section 7 Recursion Introduction"
   ]
  },
  {
   "cell_type": "markdown",
   "metadata": {},
   "source": [
    "## `factorial`"
   ]
  },
  {
   "cell_type": "code",
   "execution_count": 36,
   "metadata": {},
   "outputs": [],
   "source": [
    "def factorial(n):\n",
    "    total = 0\n",
    "    if n <= 0:\n",
    "        return 'n must be > 0 '\n",
    "    if n == 1:\n",
    "        return 1\n",
    "    else:\n",
    "        return n * factorial(n-1)"
   ]
  },
  {
   "cell_type": "code",
   "execution_count": 39,
   "metadata": {},
   "outputs": [
    {
     "data": {
      "text/plain": [
       "24"
      ]
     },
     "execution_count": 39,
     "metadata": {},
     "output_type": "execute_result"
    }
   ],
   "source": [
    "factorial(4)"
   ]
  },
  {
   "cell_type": "markdown",
   "metadata": {},
   "source": [
    "## When things go wrong:\n",
    "These things could cause limitless recursion:\n",
    "- No base case\n",
    "- Returning the wrong thing\n",
    "- Stack overflow"
   ]
  },
  {
   "cell_type": "markdown",
   "metadata": {},
   "source": [
    "## Helper Method Recursion\n",
    "Create a recursive function inside a function, useful when we work with compiling array or list of data.\n",
    "\n",
    "Example:\n",
    "Implement `collectOdds` that collect odd numbers of an array\n",
    "\n",
    "collectOdds([2, 3, 5, 6, 7, 8, 9]) --> [3, 5, 7, 9]"
   ]
  },
  {
   "cell_type": "code",
   "execution_count": 34,
   "metadata": {},
   "outputs": [],
   "source": [
    "def collectOdds(arr):\n",
    "    result = []\n",
    "    \n",
    "    # Helper function\n",
    "    def helper(helperIn):\n",
    "        if len(helperIn) == 0:\n",
    "            return\n",
    "        \n",
    "        if helperIn[0] % 2 != 0:\n",
    "            result.append(helperIn[0])\n",
    "        \n",
    "        helperIn.pop(0)\n",
    "        helper(helperIn)\n",
    "    \n",
    "    helper(arr)\n",
    "    \n",
    "    return result"
   ]
  },
  {
   "cell_type": "code",
   "execution_count": 35,
   "metadata": {},
   "outputs": [
    {
     "data": {
      "text/plain": [
       "[1, 3, 5, 7, 9]"
      ]
     },
     "execution_count": 35,
     "metadata": {},
     "output_type": "execute_result"
    }
   ],
   "source": [
    "arr = [1, 2, 3, 4, 5, 6, 7, 8, 9]\n",
    "collectOdds(arr)"
   ]
  },
  {
   "cell_type": "markdown",
   "metadata": {},
   "source": [
    "## Pure Recursion\n",
    "Solve `collectOdds` with pure recursion"
   ]
  },
  {
   "cell_type": "code",
   "execution_count": 18,
   "metadata": {},
   "outputs": [],
   "source": [
    "def collectOdds(arr):\n",
    "    if len(arr) == 0:\n",
    "        return arr\n",
    "    \n",
    "    result = []\n",
    "    \n",
    "    if arr[0] %2 != 0:\n",
    "        result.append(arr[0])\n",
    "        \n",
    "    arr.pop(0)\n",
    "    \n",
    "    return result + collectOdds(arr)"
   ]
  },
  {
   "cell_type": "code",
   "execution_count": 21,
   "metadata": {},
   "outputs": [
    {
     "data": {
      "text/plain": [
       "[1, 3, 5, 7, 9]"
      ]
     },
     "execution_count": 21,
     "metadata": {},
     "output_type": "execute_result"
    }
   ],
   "source": [
    "arr = [1, 2, 3, 4, 5, 7, 9]\n",
    "collectOdds(arr)"
   ]
  },
  {
   "cell_type": "markdown",
   "metadata": {},
   "source": [
    "# Section 8 Recursion Problem Set"
   ]
  },
  {
   "cell_type": "markdown",
   "metadata": {},
   "source": [
    "## `power`"
   ]
  },
  {
   "cell_type": "code",
   "execution_count": 32,
   "metadata": {},
   "outputs": [],
   "source": [
    "# Example\n",
    "# pow(2, 0) = 1\n",
    "# pow(2, 2) = 4\n",
    "# pow(2, 4) = 16"
   ]
  },
  {
   "cell_type": "code",
   "execution_count": 10,
   "metadata": {},
   "outputs": [],
   "source": [
    "def poww(x, p):\n",
    "    # Create base case\n",
    "    if p == 0:\n",
    "        return 1\n",
    "    \n",
    "    # Create recursion\n",
    "    return x * pow(x, p-1)"
   ]
  },
  {
   "cell_type": "code",
   "execution_count": 11,
   "metadata": {},
   "outputs": [
    {
     "name": "stdout",
     "output_type": "stream",
     "text": [
      "1\n",
      "4\n",
      "16\n"
     ]
    }
   ],
   "source": [
    "print(poww(2, 0))\n",
    "print(poww(2, 2))\n",
    "print(poww(2, 4))"
   ]
  },
  {
   "cell_type": "markdown",
   "metadata": {},
   "source": [
    "## `factorial`"
   ]
  },
  {
   "cell_type": "code",
   "execution_count": 22,
   "metadata": {},
   "outputs": [],
   "source": [
    "def factorial(n):\n",
    "    if n == 0:\n",
    "        return 1\n",
    "    \n",
    "    return n * factorial(n-1)"
   ]
  },
  {
   "cell_type": "code",
   "execution_count": 27,
   "metadata": {},
   "outputs": [
    {
     "name": "stdout",
     "output_type": "stream",
     "text": [
      "1\n",
      "6\n",
      "120\n"
     ]
    }
   ],
   "source": [
    "print(factorial(0))\n",
    "print(factorial(3))\n",
    "print(factorial(5))"
   ]
  },
  {
   "cell_type": "markdown",
   "metadata": {},
   "source": [
    "## `productOfArray`\n",
    "This function takes in array of numbers and returns the product of them all"
   ]
  },
  {
   "cell_type": "code",
   "execution_count": 33,
   "metadata": {},
   "outputs": [],
   "source": [
    "# Example:\n",
    "# productOfArray([1, 2, 3]) // 6\n",
    "# productOfArray([1, 2, 3, 10]) // 60"
   ]
  },
  {
   "cell_type": "code",
   "execution_count": 54,
   "metadata": {},
   "outputs": [],
   "source": [
    "def productOfArray(arr):\n",
    "    if len(arr) == 1:\n",
    "        return arr[0]\n",
    "    \n",
    "    if len(arr) == 0:\n",
    "        return 'none'\n",
    "    \n",
    "    num = arr[0]\n",
    "    arr.pop(0)\n",
    "    \n",
    "    return num * productOfArray(arr)"
   ]
  },
  {
   "cell_type": "code",
   "execution_count": 56,
   "metadata": {},
   "outputs": [
    {
     "data": {
      "text/plain": [
       "120"
      ]
     },
     "execution_count": 56,
     "metadata": {},
     "output_type": "execute_result"
    }
   ],
   "source": [
    "arr = [1, 2, 3, 4, 5]\n",
    "productOfArray(arr)"
   ]
  },
  {
   "cell_type": "markdown",
   "metadata": {},
   "source": [
    "## `fib`\n",
    "A recursive function that receives a number and returns the nth number in the Fibonacci sequence.  \n",
    "Recall that Fibonacci sequence is the following:\n",
    "1, 1, 2, 3, 5, 8, ....."
   ]
  },
  {
   "cell_type": "code",
   "execution_count": 68,
   "metadata": {},
   "outputs": [],
   "source": [
    "def fib(n):\n",
    "    if n < 0:\n",
    "        return 'invalid'\n",
    "    if n < 2:\n",
    "        return 1\n",
    "    \n",
    "    return fib(n-1) + fib(n-2)"
   ]
  },
  {
   "cell_type": "code",
   "execution_count": 71,
   "metadata": {},
   "outputs": [
    {
     "name": "stdout",
     "output_type": "stream",
     "text": [
      "1\n",
      "5\n",
      "21\n"
     ]
    }
   ],
   "source": [
    "# Start at 0\n",
    "print(fib(0))\n",
    "print(fib(4))\n",
    "print(fib(7))"
   ]
  },
  {
   "cell_type": "markdown",
   "metadata": {},
   "source": [
    "## `recursiveRange`\n",
    "Create function that adds up number from `0` to number passed into the function"
   ]
  },
  {
   "cell_type": "code",
   "execution_count": 31,
   "metadata": {},
   "outputs": [],
   "source": [
    "# Example:\n",
    "# recursiveRange(6) // 21\n",
    "# recursiveRange(10) // 55 "
   ]
  },
  {
   "cell_type": "code",
   "execution_count": 13,
   "metadata": {},
   "outputs": [],
   "source": [
    "def recursiveRange(n):\n",
    "    # Base case\n",
    "    if n == 1:\n",
    "        return 1\n",
    "    # Recursion\n",
    "    return n + recursiveRange(n-1)"
   ]
  },
  {
   "cell_type": "code",
   "execution_count": 14,
   "metadata": {},
   "outputs": [
    {
     "name": "stdout",
     "output_type": "stream",
     "text": [
      "21\n",
      "55\n"
     ]
    }
   ],
   "source": [
    "print(recursiveRange(6))\n",
    "print(recursiveRange(10))"
   ]
  }
 ],
 "metadata": {
  "kernelspec": {
   "display_name": "Python 3",
   "language": "python",
   "name": "python3"
  },
  "language_info": {
   "codemirror_mode": {
    "name": "ipython",
    "version": 3
   },
   "file_extension": ".py",
   "mimetype": "text/x-python",
   "name": "python",
   "nbconvert_exporter": "python",
   "pygments_lexer": "ipython3",
   "version": "3.7.9"
  }
 },
 "nbformat": 4,
 "nbformat_minor": 4
}
