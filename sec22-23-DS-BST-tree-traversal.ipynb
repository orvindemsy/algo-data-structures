{
 "cells": [
  {
   "cell_type": "markdown",
   "metadata": {},
   "source": [
    "# Trees"
   ]
  },
  {
   "cell_type": "markdown",
   "metadata": {},
   "source": [
    "Tree terminologies:\n",
    "- **Root**     - Top node in a tree, must be only one\n",
    "- **Child**    - A node connected to another node when moving away from the Root\n",
    "- **Parent**   - The converse notion of a child\n",
    "- **Siblings** - A group of nodes with same parents\n",
    "- **Leaf**     - A node with no children\n",
    "- **Edge**     - Connection between one node and another?"
   ]
  },
  {
   "cell_type": "markdown",
   "metadata": {},
   "source": [
    "Applications of Trees:\n",
    "- HTML DOM (Document Object Model)\n",
    "- Network Routing\n",
    "- Abstract Syntax Tree\n",
    "- Artifical Intelligence (breaking down the logic)\n",
    "- Folders in OS"
   ]
  },
  {
   "cell_type": "markdown",
   "metadata": {},
   "source": [
    "Kinds of Trees:\n",
    "- Trees\n",
    "- Binary Trees\n",
    "- Binary Search Trees\n",
    "\n",
    "How BST Work:\n",
    "- Every parent node has *at most* two children\n",
    "- Every node to the left of a parent node is always less than the parent\n",
    "- Every node to the right of a parent node is always greater than the parent"
   ]
  },
  {
   "cell_type": "code",
   "execution_count": 1,
   "metadata": {},
   "outputs": [],
   "source": [
    "class Node:\n",
    "    def __init__(self, value):\n",
    "        self.value = value\n",
    "        self.left = None\n",
    "        self.right = None"
   ]
  },
  {
   "cell_type": "code",
   "execution_count": 2,
   "metadata": {},
   "outputs": [],
   "source": [
    "class BinarySearchTree:\n",
    "    def __init__(self):\n",
    "        self.root = None"
   ]
  },
  {
   "cell_type": "code",
   "execution_count": 3,
   "metadata": {},
   "outputs": [],
   "source": [
    "tree = BinarySearchTree()"
   ]
  },
  {
   "cell_type": "code",
   "execution_count": 4,
   "metadata": {},
   "outputs": [],
   "source": [
    "# For example\n",
    "tree.root = Node(10)\n",
    "tree.root.left = Node(7)\n",
    "tree.root.right = Node(15)\n",
    "tree.root.left.right = Node(9)"
   ]
  },
  {
   "cell_type": "code",
   "execution_count": 5,
   "metadata": {},
   "outputs": [],
   "source": [
    "class BinarySearchTree:\n",
    "    def __init__(self):\n",
    "        self.root = None\n",
    "    \n",
    "    # == INSERT ==\n",
    "    def insert(self, val):\n",
    "        newNode = Node(val)\n",
    "        parent = self.root\n",
    "        found = False\n",
    "        \n",
    "        if not self.root:\n",
    "            print('Create new root')\n",
    "            self.root = newNode\n",
    "            \n",
    "            return self\n",
    "    \n",
    "        while not found:\n",
    "            if newNode.value == parent.value:\n",
    "                return print('undefined')\n",
    "            \n",
    "            # If new node value bigger then parent go to right\n",
    "            if newNode.value > parent.value:\n",
    "                if not parent.right:\n",
    "                    parent.right = newNode\n",
    "                    found = True\n",
    "                else:\n",
    "                    parent = parent.right\n",
    "            \n",
    "            # If new node value bigger then parent go to left\n",
    "            else:\n",
    "                if not parent.left:\n",
    "                    parent.left = newNode\n",
    "                    found = True\n",
    "                    \n",
    "                else:\n",
    "                    parent = parent.left\n",
    "            \n",
    "        return self\n",
    "    \n",
    "    # == FIND == \n",
    "    def find(self, val):\n",
    "        if not self.root:\n",
    "            return print('undefined')\n",
    "        \n",
    "        current = self.root\n",
    "        \n",
    "        while True:\n",
    "            if val == current.value:\n",
    "                return True\n",
    "                # return True\n",
    "                \n",
    "            elif val < current.value:\n",
    "                # print('going to left edge')\n",
    "                if not current.left:\n",
    "                    return print('no value found')\n",
    "                else:\n",
    "                    current = current.left\n",
    "                    \n",
    "            else:\n",
    "                # print('going to right edge')\n",
    "                if not current.right:\n",
    "                    return print('no value found')\n",
    "                else:\n",
    "                    current = current.right"
   ]
  },
  {
   "cell_type": "code",
   "execution_count": 6,
   "metadata": {},
   "outputs": [],
   "source": [
    "tree = BinarySearchTree()"
   ]
  },
  {
   "cell_type": "code",
   "execution_count": 7,
   "metadata": {},
   "outputs": [
    {
     "name": "stdout",
     "output_type": "stream",
     "text": [
      "Create new root\n"
     ]
    },
    {
     "data": {
      "text/plain": [
       "<__main__.BinarySearchTree at 0x19bc07edfc8>"
      ]
     },
     "execution_count": 7,
     "metadata": {},
     "output_type": "execute_result"
    }
   ],
   "source": [
    "tree.insert(20)\n",
    "tree.insert(10)\n",
    "tree.insert(6)\n",
    "tree.insert(12)\n",
    "tree.insert(23)"
   ]
  },
  {
   "cell_type": "code",
   "execution_count": 8,
   "metadata": {},
   "outputs": [
    {
     "name": "stdout",
     "output_type": "stream",
     "text": [
      "{'root': <__main__.Node object at 0x0000019BC0833DC8>}\n",
      "{'value': 20, 'left': <__main__.Node object at 0x0000019BC0833C48>, 'right': <__main__.Node object at 0x0000019BC0842088>}\n",
      "{'value': 10, 'left': <__main__.Node object at 0x0000019BC0842788>, 'right': <__main__.Node object at 0x0000019BC0842748>}\n",
      "{'value': 23, 'left': None, 'right': None}\n"
     ]
    }
   ],
   "source": [
    "print(vars(tree))\n",
    "print(vars(tree.root))\n",
    "print(vars(tree.root.left))\n",
    "print(vars(tree.root.right))\n",
    "# print(vars(tree.root.left.left))\n",
    "# print(vars(tree.root.left.right))"
   ]
  },
  {
   "cell_type": "code",
   "execution_count": 9,
   "metadata": {},
   "outputs": [
    {
     "data": {
      "text/plain": [
       "True"
      ]
     },
     "execution_count": 9,
     "metadata": {},
     "output_type": "execute_result"
    }
   ],
   "source": [
    "tree.find(12)"
   ]
  },
  {
   "cell_type": "markdown",
   "metadata": {},
   "source": [
    "**Big O of BST**\n",
    "- Insertion O(log n)\n",
    "- Find O(log n)"
   ]
  },
  {
   "cell_type": "markdown",
   "metadata": {},
   "source": [
    "# Tree Traversal"
   ]
  },
  {
   "cell_type": "markdown",
   "metadata": {},
   "source": [
    "## Bread First Seach (BFS)"
   ]
  },
  {
   "cell_type": "code",
   "execution_count": 10,
   "metadata": {},
   "outputs": [],
   "source": [
    "class BinarySearchTree:\n",
    "    def __init__(self):\n",
    "        self.root = None\n",
    "    \n",
    "    # == INSERT ==\n",
    "    def insert(self, val):\n",
    "        newNode = Node(val)\n",
    "        parent = self.root\n",
    "        found = False\n",
    "        \n",
    "        if not self.root:\n",
    "            self.root = newNode\n",
    "            \n",
    "            return self\n",
    "    \n",
    "        while not found:\n",
    "            if newNode.value == parent.value:\n",
    "                return print('undefined')\n",
    "            \n",
    "            # If new node value bigger then parent go to right\n",
    "            if newNode.value > parent.value:\n",
    "                if not parent.right:\n",
    "                    parent.right = newNode\n",
    "                    found = True\n",
    "                else:\n",
    "                    parent = parent.right\n",
    "            \n",
    "            # If new node value bigger then parent go to left\n",
    "            else:\n",
    "                if not parent.left:\n",
    "                    parent.left = newNode\n",
    "                    found = True\n",
    "                    \n",
    "                else:\n",
    "                    parent = parent.left\n",
    "            \n",
    "        return self\n",
    "    \n",
    "    # == FIND == \n",
    "    def find(self, val):\n",
    "        if not self.root:\n",
    "            return print('undefined')\n",
    "        \n",
    "        current = self.root\n",
    "        \n",
    "        while True:\n",
    "            if val == current.value:\n",
    "                return True\n",
    "                \n",
    "            elif val < current.value:\n",
    "                if not current.left:\n",
    "                    return print('no value found')\n",
    "                else:\n",
    "                    current = current.left\n",
    "                    \n",
    "            else:\n",
    "                if not current.right:\n",
    "                    return print('no value found')\n",
    "                else:\n",
    "                    current = current.right\n",
    "                    \n",
    "    # == BFS ==\n",
    "    def BFS(self):\n",
    "        node = self.root\n",
    "        queue = []\n",
    "        visit = []\n",
    "        \n",
    "        queue.append(node)\n",
    "        \n",
    "        while(queue):\n",
    "            node = queue.pop(0)\n",
    "            visit.append(node.value)\n",
    "            \n",
    "            queue.append(node.left) if node.left else None\n",
    "            queue.append(node.right) if node.right else None            \n",
    "            \n",
    "        return visit"
   ]
  },
  {
   "cell_type": "code",
   "execution_count": 11,
   "metadata": {},
   "outputs": [],
   "source": [
    "tree = BinarySearchTree()"
   ]
  },
  {
   "cell_type": "code",
   "execution_count": 12,
   "metadata": {},
   "outputs": [
    {
     "data": {
      "text/plain": [
       "<__main__.BinarySearchTree at 0x19bc0864a08>"
      ]
     },
     "execution_count": 12,
     "metadata": {},
     "output_type": "execute_result"
    }
   ],
   "source": [
    "tree.insert(10)\n",
    "tree.insert(6)\n",
    "tree.insert(3)\n",
    "tree.insert(8)\n",
    "tree.insert(15)\n",
    "tree.insert(20)"
   ]
  },
  {
   "cell_type": "code",
   "execution_count": 13,
   "metadata": {},
   "outputs": [
    {
     "name": "stdout",
     "output_type": "stream",
     "text": [
      "{'root': <__main__.Node object at 0x0000019BC0861AC8>}\n",
      "{'value': 6, 'left': <__main__.Node object at 0x0000019BC0861808>, 'right': <__main__.Node object at 0x0000019BC0861C48>}\n",
      "{'value': 15, 'left': None, 'right': <__main__.Node object at 0x0000019BC0861948>}\n"
     ]
    }
   ],
   "source": [
    "print(vars(tree))\n",
    "print(vars(tree.root.left))\n",
    "print(vars(tree.root.right))"
   ]
  },
  {
   "cell_type": "code",
   "execution_count": 14,
   "metadata": {},
   "outputs": [
    {
     "data": {
      "text/plain": [
       "[10, 6, 15, 3, 8, 20]"
      ]
     },
     "execution_count": 14,
     "metadata": {},
     "output_type": "execute_result"
    }
   ],
   "source": [
    "tree.BFS()"
   ]
  },
  {
   "cell_type": "markdown",
   "metadata": {},
   "source": [
    "## Depth First PreOrder & PostOrder & InOrder"
   ]
  },
  {
   "cell_type": "code",
   "execution_count": 15,
   "metadata": {},
   "outputs": [],
   "source": [
    "class BinarySearchTree:\n",
    "    def __init__(self):\n",
    "        self.root = None\n",
    "    \n",
    "    # == INSERT ==\n",
    "    def insert(self, val):\n",
    "        newNode = Node(val)\n",
    "        parent = self.root\n",
    "        found = False\n",
    "        \n",
    "        if not self.root:\n",
    "            self.root = newNode\n",
    "            \n",
    "            return self\n",
    "    \n",
    "        while not found:\n",
    "            if newNode.value == parent.value:\n",
    "                return print('undefined')\n",
    "            \n",
    "            # If new node value bigger then parent go to right\n",
    "            if newNode.value > parent.value:\n",
    "                if not parent.right:\n",
    "                    parent.right = newNode\n",
    "                    found = True\n",
    "                else:\n",
    "                    parent = parent.right\n",
    "            \n",
    "            # If new node value bigger then parent go to left\n",
    "            else:\n",
    "                if not parent.left:\n",
    "                    parent.left = newNode\n",
    "                    found = True\n",
    "                    \n",
    "                else:\n",
    "                    parent = parent.left\n",
    "            \n",
    "        return self\n",
    "    \n",
    "    # == FIND == \n",
    "    def find(self, val):\n",
    "        if not self.root:\n",
    "            return print('undefined')\n",
    "        \n",
    "        current = self.root\n",
    "        \n",
    "        while True:\n",
    "            if val == current.value:\n",
    "                return True\n",
    "                \n",
    "            elif val < current.value:\n",
    "                if not current.left:\n",
    "                    return print('no value found')\n",
    "                else:\n",
    "                    current = current.left\n",
    "                    \n",
    "            else:\n",
    "                if not current.right:\n",
    "                    return print('no value found')\n",
    "                else:\n",
    "                    current = current.right\n",
    "                    \n",
    "    # == BFS ==\n",
    "    def BFS(self):\n",
    "        node = self.root\n",
    "        queue = []\n",
    "        visit = []\n",
    "        \n",
    "        queue.append(node)\n",
    "        \n",
    "        while(queue):\n",
    "            node = queue.pop(0)\n",
    "            visit.append(node.value)\n",
    "            \n",
    "            queue.append(node.left) if node.left else None\n",
    "            queue.append(node.right) if node.right else None            \n",
    "            \n",
    "        return visit\n",
    "    \n",
    "    # == DEPTH FIRST PRE ORDER ==\n",
    "    def DFSPreOrder(self):\n",
    "        current = self.root\n",
    "        visited = []\n",
    "        \n",
    "        def traverse(node):\n",
    "            visited.append(node.value)\n",
    "            \n",
    "            if node.left:\n",
    "                traverse(node.left)\n",
    "\n",
    "            if node.right:\n",
    "                traverse(node.right)\n",
    "            \n",
    "        traverse(current)\n",
    "        \n",
    "        return visited\n",
    "    \n",
    "    # == DEPTH FIRST POST ORDER ==\n",
    "    def DFSPostOrder(self):\n",
    "        current = self.root\n",
    "        visited = []\n",
    "        \n",
    "        def traverse(node):    \n",
    "            if node.left:\n",
    "                traverse(node.left)\n",
    "\n",
    "            if node.right:\n",
    "                traverse(node.right)\n",
    "        \n",
    "            visited.append(node.value)\n",
    "            \n",
    "        traverse(current)\n",
    "        \n",
    "        return visited        \n",
    "    \n",
    "    # == DEPTH FIRST SORT IN ORDER ==\n",
    "    def DFSInOrder(self):\n",
    "        current = tree.root\n",
    "        visited = []\n",
    "\n",
    "        def traverse(node):\n",
    "            if node.left:\n",
    "                traverse(node.left)\n",
    "    \n",
    "            visited.append(node.value)\n",
    "\n",
    "            if node.right:\n",
    "                traverse(node.right)\n",
    "    \n",
    "        traverse(current)\n",
    "        \n",
    "        return visited"
   ]
  },
  {
   "cell_type": "code",
   "execution_count": 16,
   "metadata": {},
   "outputs": [],
   "source": [
    "tree = BinarySearchTree()"
   ]
  },
  {
   "cell_type": "code",
   "execution_count": 17,
   "metadata": {},
   "outputs": [
    {
     "data": {
      "text/plain": [
       "<__main__.BinarySearchTree at 0x19bc08608c8>"
      ]
     },
     "execution_count": 17,
     "metadata": {},
     "output_type": "execute_result"
    }
   ],
   "source": [
    "tree.insert(10)\n",
    "tree.insert(6)\n",
    "tree.insert(3)\n",
    "tree.insert(8)\n",
    "tree.insert(15)\n",
    "tree.insert(20)"
   ]
  },
  {
   "cell_type": "code",
   "execution_count": 18,
   "metadata": {},
   "outputs": [
    {
     "data": {
      "text/plain": [
       "[10, 6, 3, 8, 15, 20]"
      ]
     },
     "execution_count": 18,
     "metadata": {},
     "output_type": "execute_result"
    }
   ],
   "source": [
    "tree.DFSPreOrder()"
   ]
  },
  {
   "cell_type": "code",
   "execution_count": 19,
   "metadata": {},
   "outputs": [
    {
     "data": {
      "text/plain": [
       "[3, 8, 6, 20, 15, 10]"
      ]
     },
     "execution_count": 19,
     "metadata": {},
     "output_type": "execute_result"
    }
   ],
   "source": [
    "tree.DFSPostOrder()"
   ]
  },
  {
   "cell_type": "code",
   "execution_count": 20,
   "metadata": {},
   "outputs": [
    {
     "data": {
      "text/plain": [
       "[3, 6, 8, 10, 15, 20]"
      ]
     },
     "execution_count": 20,
     "metadata": {},
     "output_type": "execute_result"
    }
   ],
   "source": [
    "tree.DFSInOrder()"
   ]
  }
 ],
 "metadata": {
  "kernelspec": {
   "display_name": "Python 3",
   "language": "python",
   "name": "python3"
  },
  "language_info": {
   "codemirror_mode": {
    "name": "ipython",
    "version": 3
   },
   "file_extension": ".py",
   "mimetype": "text/x-python",
   "name": "python",
   "nbconvert_exporter": "python",
   "pygments_lexer": "ipython3",
   "version": "3.7.9"
  }
 },
 "nbformat": 4,
 "nbformat_minor": 4
}
