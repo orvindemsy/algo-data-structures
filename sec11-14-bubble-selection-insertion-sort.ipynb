{
 "cells": [
  {
   "cell_type": "markdown",
   "metadata": {},
   "source": [
    "# Section 11: Bubble Sort"
   ]
  },
  {
   "cell_type": "code",
   "execution_count": 3,
   "metadata": {},
   "outputs": [],
   "source": [
    "# Bubble sort without optimization\n",
    "# Example\n",
    "# bubbleSort([37, 45, 29, 8]) // 8, 29, 37, 45"
   ]
  },
  {
   "cell_type": "code",
   "execution_count": 4,
   "metadata": {},
   "outputs": [],
   "source": [
    "# Create swap function\n",
    "def swap(val1, val2):\n",
    "    temp = val1\n",
    "    val1 = val2\n",
    "    val2 = temp\n",
    "    \n",
    "    return val1, val2"
   ]
  },
  {
   "cell_type": "code",
   "execution_count": 5,
   "metadata": {},
   "outputs": [
    {
     "name": "stdout",
     "output_type": "stream",
     "text": [
      "val of a:20, b:5\n"
     ]
    }
   ],
   "source": [
    "# Test swap\n",
    "a = 5\n",
    "b = 20\n",
    "a, b = swap(a, b)\n",
    "\n",
    "print(f\"val of a:{a}, b:{b}\")"
   ]
  },
  {
   "cell_type": "code",
   "execution_count": 6,
   "metadata": {},
   "outputs": [],
   "source": [
    "# Optimizization added, the noSwaps is boolean flag to indicate if swap isn't happening\n",
    "# If there's no swap then array already sorted and no need to do the rest of process\n",
    "def bubbleSort(arr):    \n",
    "    # Iterate through all arr elements, from last index to start index\n",
    "    for i in range(len(arr))[::-1]:\n",
    "        # No swap flag\n",
    "        noSwap = True\n",
    "        \n",
    "        # Iterate from j=0 to i-1\n",
    "        for j in range(i):\n",
    "            if arr[j] > arr[j+1]:\n",
    "                arr[j], arr[j+1] = swap(arr[j], arr[j+1])\n",
    "                noSwap = False\n",
    "        \n",
    "        # If no swap occurs, then get out of loop\n",
    "        if noSwap:\n",
    "            break\n",
    "    \n",
    "    return arr"
   ]
  },
  {
   "cell_type": "code",
   "execution_count": 7,
   "metadata": {},
   "outputs": [],
   "source": [
    "# Test bubble sort\n",
    "arr = [9, 1, 2, 3, 5]"
   ]
  },
  {
   "cell_type": "code",
   "execution_count": 8,
   "metadata": {},
   "outputs": [
    {
     "data": {
      "text/plain": [
       "[1, 2, 3, 5, 9]"
      ]
     },
     "execution_count": 8,
     "metadata": {},
     "output_type": "execute_result"
    }
   ],
   "source": [
    "bubbleSort(arr)"
   ]
  },
  {
   "cell_type": "markdown",
   "metadata": {},
   "source": [
    "# Section 12: Selection Sort"
   ]
  },
  {
   "cell_type": "code",
   "execution_count": 9,
   "metadata": {},
   "outputs": [],
   "source": [
    "# Selection sort, sorting algo that swap current index with minimum, opposite of bubble sort\n",
    "# Example\n",
    "# arr[5, 6, 3, 4, 2]\n",
    "# selectionSort(arr) // [2, 3, 4, 5, 6]"
   ]
  },
  {
   "cell_type": "code",
   "execution_count": 10,
   "metadata": {},
   "outputs": [],
   "source": [
    "# 20210126, my own algorithm, not really good, I did swap everytime I notice a new minimum element.\n",
    "def selectionSort(arr):\n",
    "    # set curr minimum idex cmini\n",
    "    cmini = 0\n",
    "    \n",
    "    # Iterate i over (length of arr - 1)\n",
    "    for i in range(len(arr)-1):\n",
    "\n",
    "        # Iterate j over length of i+1, arr\n",
    "        for j in range(i+1, len(arr)):\n",
    "            \n",
    "            # Swapping\n",
    "            if arr[j] < arr[i]:\n",
    "                nmini = j\n",
    "                arr[i], arr[j] = swap(arr[i], arr[j])\n",
    "            \n",
    "    return arr"
   ]
  },
  {
   "cell_type": "code",
   "execution_count": 11,
   "metadata": {},
   "outputs": [],
   "source": [
    "# 20210126, improved algorithm following tutorial pseudocode\n",
    "def selectionSort2(arr):\n",
    "\n",
    "    # Iterate i over (length of arr - 1)\n",
    "    for i in range(len(arr)-1):\n",
    "    \n",
    "        # Set minimum value idx to current idx\n",
    "        lowest = i\n",
    "        \n",
    "        # Iterate j over length of i+1, arr\n",
    "        for j in range(i+1, len(arr)):\n",
    "            \n",
    "            # Swapping\n",
    "            if arr[j] < arr[i]:\n",
    "                lowest = j\n",
    "        \n",
    "        # Only swap once after j goes through all elements\n",
    "        if lowest != i:        \n",
    "            arr[i], arr[lowest] = swap(arr[i], arr[lowest])\n",
    "        \n",
    "            \n",
    "    return arr"
   ]
  },
  {
   "cell_type": "code",
   "execution_count": 12,
   "metadata": {},
   "outputs": [],
   "source": [
    "arr = [0, 2, 15, 12, 1]"
   ]
  },
  {
   "cell_type": "code",
   "execution_count": 13,
   "metadata": {},
   "outputs": [
    {
     "data": {
      "text/plain": [
       "[0, 1, 2, 12, 15]"
      ]
     },
     "execution_count": 13,
     "metadata": {},
     "output_type": "execute_result"
    }
   ],
   "source": [
    "# Test selection sort\n",
    "selectionSort2(arr)"
   ]
  },
  {
   "cell_type": "markdown",
   "metadata": {},
   "source": [
    "# Section 13: Insertion Sort"
   ]
  },
  {
   "cell_type": "code",
   "execution_count": 14,
   "metadata": {},
   "outputs": [],
   "source": [
    "# Example\n",
    "# arr[2, 40, 35, 15, 38]\n",
    "# insertionSort(arr) // [2, 15, 35, 38, 40]"
   ]
  },
  {
   "cell_type": "code",
   "execution_count": 15,
   "metadata": {},
   "outputs": [],
   "source": [
    "# Start at second index and iterate through the whole arr\n",
    "# Note that the udemy course in this topic, is not really well explained, look for youtube tutorial instead\n",
    "def insertionSort(arr):\n",
    "    for i in range(1, len(arr)):\n",
    "\n",
    "        # Select the value to be compared \n",
    "        currentVal = arr[i]\n",
    "\n",
    "        # While loop comparing arr[i] and arr[i-1], swap if arr[i-1] > arr[i]\n",
    "        while arr[i-1] > arr[i] and i != 0:\n",
    "            arr[i], arr[i-1] = arr[i-1], arr[i]\n",
    "            i -= 1\n",
    "\n",
    "    return arr"
   ]
  },
  {
   "cell_type": "code",
   "execution_count": 16,
   "metadata": {},
   "outputs": [
    {
     "data": {
      "text/plain": [
       "[1, 2, 4, 6, 9, 12, 76]"
      ]
     },
     "execution_count": 16,
     "metadata": {},
     "output_type": "execute_result"
    }
   ],
   "source": [
    "# Test insertion sort\n",
    "arr = [2, 1, 9, 12, 4, 76, 6]\n",
    "insertionSort(arr)"
   ]
  }
 ],
 "metadata": {
  "kernelspec": {
   "display_name": "Python 3",
   "language": "python",
   "name": "python3"
  },
  "language_info": {
   "codemirror_mode": {
    "name": "ipython",
    "version": 3
   },
   "file_extension": ".py",
   "mimetype": "text/x-python",
   "name": "python",
   "nbconvert_exporter": "python",
   "pygments_lexer": "ipython3",
   "version": "3.7.9"
  }
 },
 "nbformat": 4,
 "nbformat_minor": 4
}
